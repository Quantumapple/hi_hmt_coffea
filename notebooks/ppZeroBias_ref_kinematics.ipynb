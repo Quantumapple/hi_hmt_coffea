{
 "cells": [
  {
   "cell_type": "code",
   "execution_count": 1,
   "id": "468c4d4c",
   "metadata": {},
   "outputs": [],
   "source": [
    "import awkward as ak\n",
    "from coffea import processor\n",
    "from coffea.nanoevents.methods import candidate\n",
    "import hist\n",
    "import pandas as pd\n",
    "import numpy as np\n",
    "import pathlib\n",
    "import shutil\n",
    "import os\n",
    "import matplotlib.pyplot as plt\n",
    "import mplhep as hep\n",
    "import warnings\n",
    "warnings.filterwarnings('ignore')"
   ]
  },
  {
   "cell_type": "code",
   "execution_count": 2,
   "id": "2c0edb53-c0eb-48c8-ae10-6ce64e3bc384",
   "metadata": {},
   "outputs": [],
   "source": [
    "class MyProcessor(processor.ProcessorABC):\n",
    "    def __init__(self):\n",
    "        pass\n",
    "\n",
    "    def process(self, events):\n",
    "        dataset = events.metadata['dataset']\n",
    "        info = ak.zip(\n",
    "            {\n",
    "                \"runNum\": events.runNum,\n",
    "                \"lumiNum\": events.lumiNum,\n",
    "                \"evtNum\": events.eventNum,\n",
    "                \"nevt\": events.eventCounter,\n",
    "                \"ishlt\":events.isHLT_PPZeroBias,\n",
    "            }\n",
    "        )\n",
    "        \n",
    "        ca4 = ak.zip(\n",
    "            {\n",
    "                'ncsc':events.nca4CSCcluster,\n",
    "                'eta':events.ca4CSCclusterEta,\n",
    "                'phi':events.ca4CSCclusterPhi,\n",
    "                'x':events.ca4CSCclusterX,        \n",
    "                'y':events.ca4CSCclusterY,\n",
    "                'z':events.ca4CSCclusterZ,                \n",
    "                'size':events.ca4CSCclusterSize, # need for HLT numerator\n",
    "                'time':events.ca4CSCclusterTime,\n",
    "                'timeSpread':events.ca4CSCclusterTimeSpread,            \n",
    "                \"nME11_12\": events.ca4CSCclusterME11_12,\n",
    "                'time':events.ca4CSCclusterTime,            \n",
    "                \"nStation10\": events.ca4CSCclusterNstation10,\n",
    "                \"avgStation10\": events.ca4CSCclusterAvgStation10,            \n",
    "            }\n",
    "        )\n",
    "        \n",
    "        elctHMT = ak.zip(\n",
    "            {\n",
    "                'bits': events.elctHMT_bits,\n",
    "                'WireNHits': events.elctHMT_WireNHits,\n",
    "                'sr': events.elctHMT_sr,\n",
    "            }\n",
    "        )\n",
    "        \n",
    "        # preselection\n",
    "        hltflag = info.ishlt\n",
    "        ca4 = ca4[hltflag]\n",
    "        \n",
    "        names = ['ME11', 'ME12', 'ME13', 'ME21', 'ME22', 'ME31', 'ME32', 'ME41', 'ME42']\n",
    "        cut_names = ['raw', 'ncsc', 'nstation']\n",
    "\n",
    "        sta_axis = hist.axis.StrCategory(names, growth=True)\n",
    "        cut_axis = hist.axis.StrCategory(cut_names, growth=True)\n",
    "        cls_axis = hist.axis.Regular(100, 0, 1000, name=\"clusterSize\")\n",
    "        time_axis = hist.axis.Regular(90, -90, 90, name='time')\n",
    "\n",
    "        h_nca4 = hist.Hist(cut_axis, hist.axis.Regular(10, 0, 10, name='nca4'), label=\"nca4\")\n",
    "        h_ca4x = hist.Hist(cut_axis, hist.axis.Regular(100, -1000, 1000, name='x'), label=\"ca4x\")\n",
    "        h_ca4y = hist.Hist(cut_axis, hist.axis.Regular(100, -1000, 1000, name='y'), label=\"ca4y\")\n",
    "        h_ca4z = hist.Hist(cut_axis, hist.axis.Regular(120, -1200, 1200, name='z'), label=\"ca4z\")\n",
    "        h_ca4phi = hist.Hist(cut_axis, hist.axis.Regular(40, -np.pi, np.pi, name='phi'), label=\"ca4phi\")\n",
    "        h_ca4eta = hist.Hist(cut_axis, hist.axis.Regular(40, -5, 5, name='eta'), label=\"ca4eta\")\n",
    "        h_ca4size = hist.Hist(cut_axis, cls_axis, label=\"ca4size\")\n",
    "        h_ca4time = hist.Hist(cut_axis, time_axis, label=\"ca4time\")\n",
    "        h_ca4nME11_12 = hist.Hist(cut_axis, hist.axis.Regular(40, 0, 40, name='nME11_12'), label=\"ca4_nME11_12\")\n",
    "        h_ca4timespread = hist.Hist(cut_axis, hist.axis.Regular(80, 0, 100, name='timespread'), label=\"ca4time_spread\")\n",
    "        h_ca4nstation = hist.Hist(cut_axis, hist.axis.Regular(8, 0, 8, name='nstation'), label=\"ca4_nStation10\")\n",
    "        h_ca4avgstation = hist.Hist(cut_axis, hist.axis.Regular(40, 0, 8, name='avgstation'), label=\"ca4_avgStation\")\n",
    "\n",
    "        dummy = ak.values_astype(ak.ones_like(ca4.size), 'bool') #dummy truth vector of same shape as csc variables\n",
    "        cuts = {\n",
    "            'raw': (ak.num(ca4, axis=1) > 0),\n",
    "            'ncsc': ak.any((ca4.ncsc==1), axis=1),\n",
    "            'nstation': ak.any((ca4.nStation10==1), axis=1),\n",
    "        }\n",
    "        \n",
    "        sel = cuts[list(cuts.keys())[0]] #sets first cut\n",
    "        for i, cut in enumerate(cuts):\n",
    "            sel = sel & cuts[cut]\n",
    "    \n",
    "            h_ca4x.fill(cut_names[i], ak.flatten(ca4[sel].x))\n",
    "            h_ca4y.fill(cut_names[i], ak.flatten(ca4[sel].y))\n",
    "            h_ca4z.fill(cut_names[i], ak.flatten(ca4[sel].z))\n",
    "            h_ca4phi.fill(cut_names[i], ak.flatten(ca4[sel].phi))\n",
    "            h_ca4eta.fill(cut_names[i], ak.flatten(ca4[sel].eta))\n",
    "            h_ca4size.fill(cut_names[i], ak.flatten(ca4[sel].size))\n",
    "            h_ca4time.fill(cut_names[i], ak.flatten(ca4[sel].time))\n",
    "            h_ca4timespread.fill(cut_names[i], ak.flatten(ca4[sel].timeSpread))\n",
    "            h_ca4nME11_12.fill(cut_names[i], ak.flatten(ca4[sel].nME11_12))\n",
    "            h_ca4nstation.fill(cut_names[i], ak.flatten(ca4[sel].nStation10))\n",
    "            h_ca4avgstation.fill(cut_names[i], ak.flatten(ca4[sel].avgStation10))\n",
    "      \n",
    "        return {\n",
    "            'h_ca4x': h_ca4x,\n",
    "            'h_ca4y': h_ca4y,\n",
    "            'h_ca4z': h_ca4z,\n",
    "            'h_ca4phi': h_ca4phi,\n",
    "            'h_ca4eta': h_ca4eta,\n",
    "            'h_ca4size': h_ca4size,\n",
    "            'h_ca4time': h_ca4time,\n",
    "            'h_ca4timespread': h_ca4timespread,\n",
    "            'h_ca4nME11_12': h_ca4nME11_12,\n",
    "            'h_ca4nstation': h_ca4nstation,\n",
    "            'h_ca4avgstation': h_ca4avgstation,\n",
    "        }\n",
    "\n",
    "    def postprocess(self, accumulator):\n",
    "        return accumulator"
   ]
  },
  {
   "cell_type": "code",
   "execution_count": 3,
   "id": "07204703-43bb-4e03-bde2-3af38497fddf",
   "metadata": {},
   "outputs": [
    {
     "data": {
      "application/vnd.jupyter.widget-view+json": {
       "model_id": "4e06e8d50d7b4733826d37ab1bef434d",
       "version_major": 2,
       "version_minor": 0
      },
      "text/plain": [
       "Output()"
      ]
     },
     "metadata": {},
     "output_type": "display_data"
    },
    {
     "data": {
      "text/html": [
       "<pre style=\"white-space:pre;overflow-x:auto;line-height:normal;font-family:Menlo,'DejaVu Sans Mono',consolas,'Courier New',monospace\"></pre>\n"
      ],
      "text/plain": []
     },
     "metadata": {},
     "output_type": "display_data"
    },
    {
     "data": {
      "text/html": [
       "<pre style=\"white-space:pre;overflow-x:auto;line-height:normal;font-family:Menlo,'DejaVu Sans Mono',consolas,'Courier New',monospace\">\n",
       "</pre>\n"
      ],
      "text/plain": [
       "\n"
      ]
     },
     "metadata": {},
     "output_type": "display_data"
    },
    {
     "data": {
      "application/vnd.jupyter.widget-view+json": {
       "model_id": "297eb3f753a24f9ebffe5cc0e32cf43e",
       "version_major": 2,
       "version_minor": 0
      },
      "text/plain": [
       "Output()"
      ]
     },
     "metadata": {},
     "output_type": "display_data"
    },
    {
     "data": {
      "text/html": [
       "<pre style=\"white-space:pre;overflow-x:auto;line-height:normal;font-family:Menlo,'DejaVu Sans Mono',consolas,'Courier New',monospace\"></pre>\n"
      ],
      "text/plain": []
     },
     "metadata": {},
     "output_type": "display_data"
    },
    {
     "data": {
      "text/html": [
       "<pre style=\"white-space:pre;overflow-x:auto;line-height:normal;font-family:Menlo,'DejaVu Sans Mono',consolas,'Courier New',monospace\">\n",
       "</pre>\n"
      ],
      "text/plain": [
       "\n"
      ]
     },
     "metadata": {},
     "output_type": "display_data"
    },
    {
     "name": "stdout",
     "output_type": "stream",
     "text": [
      "{'h_ca4x': Hist(\n",
      "  StrCategory(['raw', 'ncsc', 'nstation'], growth=True, label='Axis 0'),\n",
      "  Regular(100, -1000, 1000, name='x'),\n",
      "  storage=Double()) # Sum: 4016254.0, 'h_ca4y': Hist(\n",
      "  StrCategory(['raw', 'ncsc', 'nstation'], growth=True, label='Axis 0'),\n",
      "  Regular(100, -1000, 1000, name='y'),\n",
      "  storage=Double()) # Sum: 4016254.0, 'h_ca4z': Hist(\n",
      "  StrCategory(['raw', 'ncsc', 'nstation'], growth=True, label='Axis 0'),\n",
      "  Regular(120, -1200, 1200, name='z'),\n",
      "  storage=Double()) # Sum: 4016254.0, 'h_ca4phi': Hist(\n",
      "  StrCategory(['raw', 'ncsc', 'nstation'], growth=True, label='Axis 0'),\n",
      "  Regular(40, -3.14159, 3.14159, name='phi'),\n",
      "  storage=Double()) # Sum: 4016254.0, 'h_ca4eta': Hist(\n",
      "  StrCategory(['raw', 'ncsc', 'nstation'], growth=True, label='Axis 0'),\n",
      "  Regular(40, -5, 5, name='eta'),\n",
      "  storage=Double()) # Sum: 4016254.0, 'h_ca4size': Hist(\n",
      "  StrCategory(['raw', 'ncsc', 'nstation'], growth=True, label='Axis 0'),\n",
      "  Regular(100, 0, 1000, name='clusterSize'),\n",
      "  storage=Double()) # Sum: 4016247.0 (4016254.0 with flow), 'h_ca4time': Hist(\n",
      "  StrCategory(['raw', 'ncsc', 'nstation'], growth=True, label='Axis 0'),\n",
      "  Regular(90, -90, 90, name='time'),\n",
      "  storage=Double()) # Sum: 4016145.0 (4016254.0 with flow), 'h_ca4timespread': Hist(\n",
      "  StrCategory(['raw', 'ncsc', 'nstation'], growth=True, label='Axis 0'),\n",
      "  Regular(80, 0, 100, name='timespread'),\n",
      "  storage=Double()) # Sum: 4015343.0 (4016254.0 with flow), 'h_ca4nME11_12': Hist(\n",
      "  StrCategory(['raw', 'ncsc', 'nstation'], growth=True, label='Axis 0'),\n",
      "  Regular(40, 0, 40, name='nME11_12'),\n",
      "  storage=Double()) # Sum: 2044774.0 (4016254.0 with flow), 'h_ca4nstation': Hist(\n",
      "  StrCategory(['raw', 'ncsc', 'nstation'], growth=True, label='Axis 0'),\n",
      "  Regular(8, 0, 8, name='nstation'),\n",
      "  storage=Double()) # Sum: 4016254.0, 'h_ca4avgstation': Hist(\n",
      "  StrCategory(['raw', 'ncsc', 'nstation'], growth=True, label='Axis 0'),\n",
      "  Regular(40, 0, 8, name='avgstation'),\n",
      "  storage=Double()) # Sum: 4016254.0}\n"
     ]
    }
   ],
   "source": [
    "import time\n",
    "from coffea.nanoevents import BaseSchema\n",
    "\n",
    "tstart = time.time()\n",
    "\n",
    "futures_run = processor.Runner(\n",
    "    executor = processor.FuturesExecutor(compression=None, workers=12),\n",
    "    schema=BaseSchema,\n",
    "    maxchunks=50000,\n",
    ")\n",
    "\n",
    "fileset = {\n",
    "    'run2022c': open(\"ppZeroBias_Run2022C_hltinclude.txt\").read().split(\"\\n\"),\n",
    "    'run2022e': open(\"ppZeroBias_Run2022E_hltinclude.txt\").read().split(\"\\n\")\n",
    "}\n",
    "\n",
    "# fileset = {\n",
    "#     'test': [\n",
    "#         './plots_1963.root',\n",
    "#         #'./plots_1964.root'\n",
    "#     ],\n",
    "# }\n",
    "\n",
    "output = futures_run(\n",
    "    fileset,\n",
    "    treename=\"simpleCSCshowerFilter/hmt\",\n",
    "    processor_instance=MyProcessor(),\n",
    ")\n",
    "\n",
    "elapsed = time.time() - tstart\n",
    "\n",
    "print(output)"
   ]
  },
  {
   "cell_type": "code",
   "execution_count": 4,
   "id": "60179059-3b90-4646-ba62-d973806da89e",
   "metadata": {},
   "outputs": [],
   "source": [
    "import pickle\n",
    "filename = 'histograms_ca4_kinematics_v2.pickle'\n",
    "outfile = open(filename, 'wb')\n",
    "pickle.dump(output, outfile)\n",
    "outfile.close()"
   ]
  },
  {
   "cell_type": "code",
   "execution_count": 5,
   "id": "ee18d52a-07d5-4ea9-877b-299a53f26c63",
   "metadata": {},
   "outputs": [
    {
     "data": {
      "text/html": [
       "<html>\n",
       "<div style=\"display:flex; align-items:center;\">\n",
       "<div style=\"width:290px;\">\n",
       "<svg xmlns=\"http://www.w3.org/2000/svg\" viewBox=\"-10 -105 270 120\">\n",
       "<line x1=\"-5\" y1=\"0\" x2=\"255\" y2=\"0\" style=\"fill:none;stroke-width:2;stroke:currentColor\"/>\n",
       "<text text-anchor=\"middle\" x=\"0\" y=\"15\" style=\"fill:currentColor;\">\n",
       "-90\n",
       "</text>\n",
       "<text text-anchor=\"middle\" x=\"250\" y=\"15\" style=\"fill:currentColor;\">\n",
       "90\n",
       "</text>\n",
       "<text text-anchor=\"middle\" x=\"125.0\" y=\"15\" style=\"fill:currentColor;\">\n",
       "time\n",
       "</text>\n",
       "<polyline points=\"  0,0   0,-0.00667 2.77778,-0.00667 2.77778,-0.00333 5.55556,-0.00333 5.55556,-0 8.33333,-0 8.33333,-0.05 11.1111,-0.05 11.1111,-0.35 13.8889,-0.35 13.8889,-2.08 16.6667,-2.08 16.6667,-6.13 19.4444,-6.13 19.4444,-11.7 22.2222,-11.7 22.2222,-13.3  25,-13.3  25,-10.6 27.7778,-10.6 27.7778,-8.16 30.5556,-8.16 30.5556,-6.84 33.3333,-6.84 33.3333,-5.69 36.1111,-5.69 36.1111,-5.11 38.8889,-5.11 38.8889,-5.28 41.6667,-5.28 41.6667,-5.21 44.4444,-5.21 44.4444,-5.96 47.2222,-5.96 47.2222,-9.63  50,-9.63  50,-22.2 52.7778,-22.2 52.7778,-43.5 55.5556,-43.5 55.5556,-52.1 58.3333,-52.1 58.3333,-43.9 61.1111,-43.9 61.1111,-32.9 63.8889,-32.9 63.8889,-26.2 66.6667,-26.2 66.6667,-23.3 69.4444,-23.3 69.4444,-21.6 72.2222,-21.6 72.2222,-20.9  75,-20.9  75,-21.6 77.7778,-21.6 77.7778,-23.1 80.5556,-23.1 80.5556,-26.8 83.3333,-26.8 83.3333,-38.2 86.1111,-38.2 86.1111,-60.9 88.8889,-60.9 88.8889,-78.4 91.6667,-78.4 91.6667,-75.6 94.4444,-75.6 94.4444,-60.9 97.2222,-60.9 97.2222,-48.1 100,-48.1 100,-43.2 102.778,-43.2 102.778,-41 105.556,-41 105.556,-40.2 108.333,-40.2 108.333,-39.1 111.111,-39.1 111.111,-41.1 113.889,-41.1 113.889,-44.1 116.667,-44.1 116.667,-52.5 119.444,-52.5 119.444,-71.5 122.222,-71.5 122.222,-97.7 125,-97.7 125,-100 127.778,-100 127.778,-78.2 130.556,-78.2 130.556,-59.2 133.333,-59.2 133.333,-49.5 136.111,-49.5 136.111,-45.4 138.889,-45.4 138.889,-42.3 141.667,-42.3 141.667,-41.4 144.444,-41.4 144.444,-41.2 147.222,-41.2 147.222,-42.2 150,-42.2 150,-46.6 152.778,-46.6 152.778,-57.6 155.556,-57.6 155.556,-77.4 158.333,-77.4 158.333,-85 161.111,-85 161.111,-66 163.889,-66 163.889,-46.3 166.667,-46.3 166.667,-34.9 169.444,-34.9 169.444,-30 172.222,-30 172.222,-27.6 175,-27.6 175,-25.9 177.778,-25.9 177.778,-25.3 180.556,-25.3 180.556,-24.8 183.333,-24.8 183.333,-26.9 186.111,-26.9 186.111,-31.4 188.889,-31.4 188.889,-42.3 191.667,-42.3 191.667,-51.4 194.444,-51.4 194.444,-42.6 197.222,-42.6 197.222,-24.3 200,-24.3 200,-14.2 202.778,-14.2 202.778,-10.8 205.556,-10.8 205.556,-9.15 208.333,-9.15 208.333,-8.04 211.111,-8.04 211.111,-6.89 213.889,-6.89 213.889,-6.52 216.667,-6.52 216.667,-6.53 219.444,-6.53 219.444,-7.35 222.222,-7.35 222.222,-9.58 225,-9.58 225,-12.3 227.778,-12.3 227.778,-10.6 230.556,-10.6 230.556,-5.17 233.333,-5.17 233.333,-2.3 236.111,-2.3 236.111,-1.31 238.889,-1.31 238.889,-0.886 241.667,-0.886 241.667,-0.627 244.444,-0.627 244.444,-0.29 247.222,-0.29 247.222,-0.127 250,-0.127 250,0\" style=\"fill:none; stroke:currentColor;\"/>\n",
       "</svg>\n",
       "</div>\n",
       "<div style=\"flex=grow:1;\">\n",
       "Regular(90, -90, 90, name='time')<br/>\n",
       "<hr style=\"margin-top:.2em; margin-bottom:.2em;\"/>\n",
       "Double() Σ=799760.0 <em>(799795.0 with flow)</em>\n",
       "\n",
       "</div>\n",
       "</div>\n",
       "</html>"
      ],
      "text/plain": [
       "Hist(Regular(90, -90, 90, name='time'), storage=Double()) # Sum: 799760.0 (799795.0 with flow)"
      ]
     },
     "execution_count": 5,
     "metadata": {},
     "output_type": "execute_result"
    }
   ],
   "source": [
    "output['h_ca4time'][\"nstation\", :]"
   ]
  },
  {
   "cell_type": "raw",
   "id": "cd90c3cd-5f94-4362-8c0e-8a7bea7b465f",
   "metadata": {},
   "source": []
  }
 ],
 "metadata": {
  "kernelspec": {
   "display_name": "Python 3 (ipykernel)",
   "language": "python",
   "name": "py3-preamble"
  },
  "language_info": {
   "codemirror_mode": {
    "name": "ipython",
    "version": 3
   },
   "file_extension": ".py",
   "mimetype": "text/x-python",
   "name": "python",
   "nbconvert_exporter": "python",
   "pygments_lexer": "ipython3",
   "version": "3.9.15"
  }
 },
 "nbformat": 4,
 "nbformat_minor": 5
}
