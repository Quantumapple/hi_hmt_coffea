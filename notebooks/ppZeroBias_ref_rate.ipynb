{
 "cells": [
  {
   "cell_type": "code",
   "execution_count": null,
   "id": "468c4d4c",
   "metadata": {},
   "outputs": [],
   "source": [
    "# CSC Anode thresholds for pp (loose, nominal, tight)\n",
    "# ME1/1\n",
    "#140, 140, 140,\n",
    "\n",
    "# ME1/2\n",
    "#140, 140, 140,\n",
    "\n",
    "# ME1/3\n",
    "#14, 14, 18,\n",
    "\n",
    "# ME2/1\n",
    "#28, 56, 58,\n",
    "\n",
    "# ME2/2\n",
    "#28, 28, 32,\n",
    "\n",
    "# ME3/1\n",
    "#26, 55, 57,\n",
    "\n",
    "# ME3/2\n",
    "#26, 26, 34,\n",
    "\n",
    "# ME4/1\n",
    "#31, 62, 64,\n",
    "\n",
    "# ME4/2\n",
    "#13, 27, 31"
   ]
  },
  {
   "cell_type": "code",
   "execution_count": 2,
   "id": "1e430581-eb8f-4063-927a-d5d4b378e000",
   "metadata": {},
   "outputs": [],
   "source": [
    "import awkward as ak\n",
    "from coffea import processor\n",
    "from coffea.nanoevents.methods import candidate\n",
    "import hist\n",
    "import pandas as pd\n",
    "import numpy as np\n",
    "import pathlib\n",
    "import shutil \n",
    "import os\n",
    "import matplotlib.pyplot as plt\n",
    "import mplhep as hep\n",
    "import warnings\n",
    "warnings.filterwarnings('ignore')"
   ]
  },
  {
   "cell_type": "code",
   "execution_count": 13,
   "id": "2c0edb53-c0eb-48c8-ae10-6ce64e3bc384",
   "metadata": {},
   "outputs": [],
   "source": [
    "class MyProcessor(processor.ProcessorABC):\n",
    "    def __init__(self):\n",
    "        pass\n",
    "\n",
    "    def process(self, events):\n",
    "        dataset = events.metadata['dataset']\n",
    "        info = ak.zip(\n",
    "            {\n",
    "                \"runNum\": events.runNum,\n",
    "                \"lumiNum\": events.lumiNum,\n",
    "                \"evtNum\": events.eventNum,\n",
    "                \"nevt\": events.eventCounter,\n",
    "                \"ishlt\":events.isHLT_PPZeroBias,\n",
    "            }\n",
    "        )\n",
    "        \n",
    "        ca4 = ak.zip(\n",
    "            {\n",
    "                'ncsc':events.nca4CSCcluster,\n",
    "                'eta':events.ca4CSCclusterEta,\n",
    "                'phi':events.ca4CSCclusterPhi,\n",
    "                'x':events.ca4CSCclusterX,        \n",
    "                'y':events.ca4CSCclusterY,\n",
    "                'z':events.ca4CSCclusterZ,                \n",
    "                'size':events.ca4CSCclusterSize, # need for HLT numerator\n",
    "                'time':events.ca4CSCclusterTime,\n",
    "                'timeSpread':events.ca4CSCclusterTimeSpread,            \n",
    "                \"nME11_12\": events.ca4CSCclusterME11_12,\n",
    "                'time':events.ca4CSCclusterTime,            \n",
    "                \"nStation10\": events.ca4CSCclusterNstation10,\n",
    "                \"avgStation10\": events.ca4CSCclusterAvgStation10,            \n",
    "            }\n",
    "        )\n",
    "        \n",
    "        elctHMT = ak.zip(\n",
    "            {\n",
    "                'bits': events.elctHMT_bits,\n",
    "                'WireNHits': events.elctHMT_WireNHits,\n",
    "                'sr': events.elctHMT_sr,\n",
    "            }\n",
    "        )\n",
    "        \n",
    "        run_cut = (info.runNum == 359694)\n",
    "        # run_cut = (info.runNum == 359998) # for a single file testing\n",
    "        # elctHMT = elctHMT[run_cut]\n",
    "        \n",
    "        hltflag = info.ishlt\n",
    "        presel = run_cut & hltflag\n",
    "\n",
    "        \n",
    "        elctHMT = elctHMT[presel]\n",
    "        nevents = ak.num(elctHMT, axis=0)\n",
    "        arr_nevents = np.zeros_like(np.arange(nevents))\n",
    "        \n",
    "        ## Threshold array\n",
    "        #arr = np.concatenate((np.arange(10, 25), np.arange(25, 76, 5)))\n",
    "        arr = np.array([140, 140, 14, 56, 28, 55, 26, 62, 27])\n",
    "        names = ['ME11', 'ME12', 'ME13', 'ME21', 'ME22', 'ME31', 'ME32', 'ME41', 'ME42']\n",
    "\n",
    "        sta_axis = hist.axis.StrCategory(names, growth=True)\n",
    "        evt_axis = hist.axis.Regular(2, 0, 2, name=\"flags\")\n",
    "        thr_axis = hist.axis.IntCategory(arr)\n",
    "\n",
    "        h_nevt = hist.Hist(sta_axis, thr_axis, evt_axis, label=\"nevt\")\n",
    "        \n",
    "        ME11_sr = (elctHMT.sr==8) | (elctHMT.sr==9)\n",
    "        ME12_sr = (elctHMT.sr==7) | (elctHMT.sr==10)\n",
    "        ME13_sr = (elctHMT.sr==6) | (elctHMT.sr==11)\n",
    "\n",
    "        ME21_sr = (elctHMT.sr==5) | (elctHMT.sr==12)\n",
    "        ME22_sr = (elctHMT.sr==4) | (elctHMT.sr==13)\n",
    "\n",
    "        ME31_sr = (elctHMT.sr==3) | (elctHMT.sr==14)\n",
    "        ME32_sr = (elctHMT.sr==2) | (elctHMT.sr==15)\n",
    "\n",
    "        ME41_sr = (elctHMT.sr==1) | (elctHMT.sr==16)\n",
    "        ME42_sr = (elctHMT.sr==0) | (elctHMT.sr==17)\n",
    "        \n",
    "        for i, region in enumerate([ME11_sr,ME12_sr,ME13_sr,ME21_sr,ME22_sr,ME31_sr,ME32_sr,ME41_sr,ME42_sr]):\n",
    "            sel = ak.any(elctHMT.bits >= 2, axis=1) & ak.any(elctHMT.WireNHits > arr[i], axis=1)\n",
    "            tmp = region & sel\n",
    "            l1fired = ak.count_nonzero(tmp)\n",
    "            nl1fired = np.ones_like(np.arange(l1fired))\n",
    "            \n",
    "            h_nevt.fill(names[i], arr[i], arr_nevents)\n",
    "            h_nevt.fill(names[i], arr[i], nl1fired)\n",
    "            #print(l1fired)\n",
    "                \n",
    "#         # remove empty sub-array \n",
    "#         for thres in arr:\n",
    "#             csc_threshold = ak.any(elctHMT.WireNHits > thres, axis=1)\n",
    "#             tmp = elctHMT[(ak.num(elctHMT, axis=1) > 0) & (ak.any(elctHMT.bits >= 2, axis=1)) & (csc_threshold)]\n",
    "\n",
    "#             ME11_sr = (tmp.sr==8) | (tmp.sr==9)\n",
    "#             ME12_sr = (tmp.sr==7) | (tmp.sr==10)\n",
    "#             ME13_sr = (tmp.sr==6) | (tmp.sr==11)\n",
    "\n",
    "#             ME21_sr = (tmp.sr==5) | (tmp.sr==12)\n",
    "#             ME22_sr = (tmp.sr==4) | (tmp.sr==13)\n",
    "\n",
    "#             ME31_sr = (tmp.sr==3) | (tmp.sr==14)\n",
    "#             ME32_sr = (tmp.sr==2) | (tmp.sr==15)\n",
    "\n",
    "#             ME41_sr = (tmp.sr==1) | (tmp.sr==16)\n",
    "#             ME42_sr = (tmp.sr==0) | (tmp.sr==17)\n",
    "        \n",
    "#             for i, region in enumerate([ME11_sr,ME12_sr,ME13_sr,ME21_sr,ME22_sr,ME31_sr,ME32_sr,ME41_sr,ME42_sr]):\n",
    "#                 l1fired = ak.count_nonzero(ak.any(region, axis=1))\n",
    "#                 nl1fired = np.ones_like(np.arange(l1fired))\n",
    "                \n",
    "#                 #print(thres, nevents, l1fired)\n",
    "                \n",
    "#                 h_nevt.fill(names[i], thres, arr_nevents)\n",
    "#                 h_nevt.fill(names[i], thres, nl1fired)\n",
    "               \n",
    "        return {\n",
    "            'h_nevt': h_nevt,\n",
    "        }\n",
    "\n",
    "    def postprocess(self, accumulator):\n",
    "        return accumulator"
   ]
  },
  {
   "cell_type": "code",
   "execution_count": 14,
   "id": "07204703-43bb-4e03-bde2-3af38497fddf",
   "metadata": {},
   "outputs": [
    {
     "data": {
      "application/vnd.jupyter.widget-view+json": {
       "model_id": "b2311db0a1ca4fe1a389ee660b6ac8a7",
       "version_major": 2,
       "version_minor": 0
      },
      "text/plain": [
       "Output()"
      ]
     },
     "metadata": {},
     "output_type": "display_data"
    },
    {
     "data": {
      "text/html": [
       "<pre style=\"white-space:pre;overflow-x:auto;line-height:normal;font-family:Menlo,'DejaVu Sans Mono',consolas,'Courier New',monospace\"></pre>\n"
      ],
      "text/plain": []
     },
     "metadata": {},
     "output_type": "display_data"
    },
    {
     "data": {
      "text/html": [
       "<pre style=\"white-space:pre;overflow-x:auto;line-height:normal;font-family:Menlo,'DejaVu Sans Mono',consolas,'Courier New',monospace\">\n",
       "</pre>\n"
      ],
      "text/plain": [
       "\n"
      ]
     },
     "metadata": {},
     "output_type": "display_data"
    },
    {
     "data": {
      "application/vnd.jupyter.widget-view+json": {
       "model_id": "f25595c0f9074a1dac52c162ae54dea2",
       "version_major": 2,
       "version_minor": 0
      },
      "text/plain": [
       "Output()"
      ]
     },
     "metadata": {},
     "output_type": "display_data"
    },
    {
     "data": {
      "text/html": [
       "<pre style=\"white-space:pre;overflow-x:auto;line-height:normal;font-family:Menlo,'DejaVu Sans Mono',consolas,'Courier New',monospace\"></pre>\n"
      ],
      "text/plain": []
     },
     "metadata": {},
     "output_type": "display_data"
    },
    {
     "data": {
      "text/html": [
       "<pre style=\"white-space:pre;overflow-x:auto;line-height:normal;font-family:Menlo,'DejaVu Sans Mono',consolas,'Courier New',monospace\">\n",
       "</pre>\n"
      ],
      "text/plain": [
       "\n"
      ]
     },
     "metadata": {},
     "output_type": "display_data"
    },
    {
     "name": "stdout",
     "output_type": "stream",
     "text": [
      "{'h_nevt': Hist(\n",
      "  StrCategory(['ME11', 'ME12', 'ME13', 'ME21', 'ME22', 'ME31', 'ME32', 'ME41', 'ME42'], growth=True, label='Axis 0'),\n",
      "  IntCategory([140, 140, 14, 56, 28, 55, 26, 62, 27], label='Axis 1'),\n",
      "  Regular(2, 0, 2, name='flags'),\n",
      "  storage=Double()) # Sum: 4448874.0}\n"
     ]
    }
   ],
   "source": [
    "import time\n",
    "from coffea.nanoevents import BaseSchema\n",
    "\n",
    "tstart = time.time()\n",
    "\n",
    "futures_run = processor.Runner(\n",
    "    executor = processor.FuturesExecutor(compression=None, workers=12),\n",
    "    schema=BaseSchema,\n",
    "    maxchunks=50000,\n",
    ")\n",
    "\n",
    "fileset = {\n",
    "    #'run2022c': open(\"ppZeroBias_Run2022C.txt\").read().split(\"\\n\"),\n",
    "    'run2022e': open(\"ppZeroBias_Run2022E_hltinclude.txt\").read().split(\"\\n\")\n",
    "}\n",
    "\n",
    "# fileset = {\n",
    "#     'test': [\n",
    "#         './plots_487.root',\n",
    "#     ],\n",
    "# }\n",
    "\n",
    "output = futures_run(\n",
    "    fileset,\n",
    "    treename=\"simpleCSCshowerFilter/hmt\",\n",
    "    processor_instance=MyProcessor(),\n",
    ")\n",
    "\n",
    "elapsed = time.time() - tstart\n",
    "\n",
    "print(output)"
   ]
  },
  {
   "cell_type": "code",
   "execution_count": 15,
   "id": "60179059-3b90-4646-ba62-d973806da89e",
   "metadata": {},
   "outputs": [],
   "source": [
    "import pickle\n",
    "filename = 'rate_histogram_pp_thresholds_v4_hltpath.pickle'\n",
    "# filename = 'test.pickle'\n",
    "outfile = open(filename, 'wb')\n",
    "pickle.dump(output, outfile)\n",
    "outfile.close()"
   ]
  },
  {
   "cell_type": "code",
   "execution_count": 16,
   "id": "d7d13051-1a34-482f-a78f-b51dc08f14ec",
   "metadata": {},
   "outputs": [
    {
     "data": {
      "text/plain": [
       "494306.0"
      ]
     },
     "execution_count": 16,
     "metadata": {},
     "output_type": "execute_result"
    }
   ],
   "source": [
    "output['h_nevt']['ME11', 0, :].values()[0]"
   ]
  },
  {
   "cell_type": "code",
   "execution_count": 17,
   "id": "ee18d52a-07d5-4ea9-877b-299a53f26c63",
   "metadata": {},
   "outputs": [
    {
     "data": {
      "text/plain": [
       "0.0"
      ]
     },
     "execution_count": 17,
     "metadata": {},
     "output_type": "execute_result"
    }
   ],
   "source": [
    "output['h_nevt']['ME11', 0, :].values()[1]"
   ]
  },
  {
   "cell_type": "code",
   "execution_count": 18,
   "id": "93df145b-183b-46f3-a66f-e53a6a2dcd77",
   "metadata": {},
   "outputs": [
    {
     "data": {
      "text/plain": [
       "0.0"
      ]
     },
     "execution_count": 18,
     "metadata": {},
     "output_type": "execute_result"
    }
   ],
   "source": [
    "output['h_nevt']['ME12', 1, :].values()[1]"
   ]
  },
  {
   "cell_type": "code",
   "execution_count": 19,
   "id": "9a4c25b6-4916-45ff-b15e-f685aa7b2bc2",
   "metadata": {},
   "outputs": [
    {
     "data": {
      "text/plain": [
       "34.0"
      ]
     },
     "execution_count": 19,
     "metadata": {},
     "output_type": "execute_result"
    }
   ],
   "source": [
    "output['h_nevt']['ME13', 2, :].values()[1]"
   ]
  },
  {
   "cell_type": "code",
   "execution_count": 20,
   "id": "dfaf97b3-cb80-4ff3-a1a2-b006dfca2884",
   "metadata": {},
   "outputs": [
    {
     "data": {
      "text/plain": [
       "0.0"
      ]
     },
     "execution_count": 20,
     "metadata": {},
     "output_type": "execute_result"
    }
   ],
   "source": [
    "output['h_nevt']['ME21', 3, :].values()[1]"
   ]
  },
  {
   "cell_type": "code",
   "execution_count": 21,
   "id": "ca189a38-8132-49b9-9dff-3a20f6de4508",
   "metadata": {},
   "outputs": [
    {
     "data": {
      "text/plain": [
       "33.0"
      ]
     },
     "execution_count": 21,
     "metadata": {},
     "output_type": "execute_result"
    }
   ],
   "source": [
    "output['h_nevt']['ME22', 4, :].values()[1]"
   ]
  },
  {
   "cell_type": "code",
   "execution_count": 22,
   "id": "5ebf6d70-854c-4328-be30-360753ab9f97",
   "metadata": {},
   "outputs": [
    {
     "data": {
      "text/plain": [
       "4.0"
      ]
     },
     "execution_count": 22,
     "metadata": {},
     "output_type": "execute_result"
    }
   ],
   "source": [
    "output['h_nevt']['ME31', 5, :].values()[1]"
   ]
  },
  {
   "cell_type": "code",
   "execution_count": 23,
   "id": "1a4d3895-a6b8-4024-a380-031e7ccb9424",
   "metadata": {},
   "outputs": [
    {
     "data": {
      "text/plain": [
       "23.0"
      ]
     },
     "execution_count": 23,
     "metadata": {},
     "output_type": "execute_result"
    }
   ],
   "source": [
    "output['h_nevt']['ME32', 6, :].values()[1]"
   ]
  },
  {
   "cell_type": "code",
   "execution_count": 24,
   "id": "86cdc8a6-1bac-4851-80a7-120ce096d8e3",
   "metadata": {},
   "outputs": [
    {
     "data": {
      "text/plain": [
       "1.0"
      ]
     },
     "execution_count": 24,
     "metadata": {},
     "output_type": "execute_result"
    }
   ],
   "source": [
    "output['h_nevt']['ME41', 7, :].values()[1]"
   ]
  },
  {
   "cell_type": "code",
   "execution_count": 25,
   "id": "1929d72c-e035-40c3-a8f7-be26fbc1e325",
   "metadata": {},
   "outputs": [
    {
     "data": {
      "text/plain": [
       "25.0"
      ]
     },
     "execution_count": 25,
     "metadata": {},
     "output_type": "execute_result"
    }
   ],
   "source": [
    "output['h_nevt']['ME42', 8, :].values()[1]"
   ]
  },
  {
   "cell_type": "code",
   "execution_count": null,
   "id": "2406b3e0-fa1e-4262-9972-5fab66e37605",
   "metadata": {},
   "outputs": [],
   "source": []
  },
  {
   "cell_type": "code",
   "execution_count": null,
   "id": "a69101a4-3363-4819-9bbe-5d01d7ccde13",
   "metadata": {},
   "outputs": [],
   "source": []
  }
 ],
 "metadata": {
  "kernelspec": {
   "display_name": "Python 3 (ipykernel)",
   "language": "python",
   "name": "py3-preamble"
  },
  "language_info": {
   "codemirror_mode": {
    "name": "ipython",
    "version": 3
   },
   "file_extension": ".py",
   "mimetype": "text/x-python",
   "name": "python",
   "nbconvert_exporter": "python",
   "pygments_lexer": "ipython3",
   "version": "3.9.15"
  }
 },
 "nbformat": 4,
 "nbformat_minor": 5
}
