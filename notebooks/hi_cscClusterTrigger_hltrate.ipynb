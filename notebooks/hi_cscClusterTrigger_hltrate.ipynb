{
 "cells": [
  {
   "cell_type": "code",
   "execution_count": 1,
   "id": "1e430581-eb8f-4063-927a-d5d4b378e000",
   "metadata": {},
   "outputs": [],
   "source": [
    "import awkward as ak\n",
    "from coffea import processor\n",
    "from coffea.nanoevents.methods import candidate\n",
    "import hist\n",
    "import pandas as pd\n",
    "import numpy as np\n",
    "import pathlib\n",
    "import shutil \n",
    "import os\n",
    "import matplotlib.pyplot as plt\n",
    "import mplhep as hep\n",
    "import warnings\n",
    "warnings.filterwarnings('ignore')"
   ]
  },
  {
   "cell_type": "code",
   "execution_count": 2,
   "id": "826ec169-6f3a-4a3c-bad1-971392d3fc3c",
   "metadata": {},
   "outputs": [],
   "source": [
    "class MyProcessor(processor.ProcessorABC):\n",
    "    def __init__(self):\n",
    "        pass\n",
    "\n",
    "    def process(self, events):\n",
    "        dataset = events.metadata['dataset']\n",
    "        info = ak.zip(\n",
    "            {\n",
    "                \"runNum\": events.runNum,\n",
    "                \"lumiNum\": events.lumiNum,\n",
    "                \"evtNum\": events.eventNum,\n",
    "                \"nevt\": events.eventCounter,\n",
    "                \"iszb\": events.isHLT_HIZeroBias,\n",
    "                \"ismb\": events.isHLT_HIMinimumBias,\n",
    "            }\n",
    "        )\n",
    "        elctHMT = ak.zip(\n",
    "            {\n",
    "                'bits': events.elctHMT_bits,\n",
    "                'WireNHits': events.elctHMT_WireNHits,\n",
    "                'sr': events.elctHMT_sr,\n",
    "            }\n",
    "        )\n",
    "        ca4 = ak.zip(\n",
    "            {\n",
    "                'size': events.ca4CSCclusterSize,\n",
    "                \"nStation10\": events.ca4CSCclusterNstation10,\n",
    "            }\n",
    "        )\n",
    "        run_cut = (info.runNum == 362321)\n",
    "\n",
    "        zbflag = info.iszb\n",
    "        mbflag = info.ismb\n",
    "\n",
    "        zb = run_cut & zbflag\n",
    "        mb = run_cut & mbflag\n",
    "\n",
    "        zb_elctHMT = elctHMT[zb]\n",
    "        mb_elctHMT = elctHMT[mb]\n",
    "\n",
    "        zbnevts = ak.num(zb_elctHMT, axis=0)\n",
    "        mbnevts = ak.num(mb_elctHMT, axis=0)\n",
    "\n",
    "        h_tot = hist.Hist(\n",
    "            hist.axis.StrCategory([\"zb\", \"mb\"], name=\"flag\"),\n",
    "            hist.axis.Regular(1, 0, 1, name=\"# of total events\")\n",
    "        )\n",
    "        h_tot.fill(\"zb\", np.full(zbnevts, 0))\n",
    "        h_tot.fill(\"mb\", np.full(mbnevts, 0))\n",
    "\n",
    "        names = ['ME11', 'ME12', 'ME13', 'ME21', 'ME22', 'ME31', 'ME32', 'ME41', 'ME42']\n",
    "        hltrange = np.arange(50, 360, 10)\n",
    "        \n",
    "        h_zb_nevt = hist.Hist(\n",
    "            hist.axis.StrCategory(names, growth=True),\n",
    "            hist.axis.IntCategory(hltrange),\n",
    "            hist.axis.Regular(3, 0, 3, name=\"flags\"),\n",
    "            label=\"zb_nevt\"\n",
    "        )\n",
    "\n",
    "        h_mb_nevt = hist.Hist(\n",
    "            hist.axis.StrCategory(names, growth=True),\n",
    "            hist.axis.IntCategory(hltrange),\n",
    "            hist.axis.Regular(3, 0, 3, name=\"flags\"),\n",
    "            label=\"mb_nevt\"\n",
    "        )\n",
    "        \n",
    "\n",
    "        stationInl1 = {\n",
    "            \"ME11\": [8, 9, 24],\n",
    "            \"ME12\": [7, 10, 12],\n",
    "            \"ME13\": [6, 11, 12],\n",
    "            \"ME21\": [5, 12, 12],\n",
    "            \"ME22\": [4, 13, 12],\n",
    "            \"ME31\": [3, 14, 12],\n",
    "            \"ME32\": [2, 15, 12],\n",
    "            \"ME41\": [1, 16, 12],\n",
    "            \"ME42\": [0, 17, 12],\n",
    "        }\n",
    "        \n",
    "        nStationCut = ak.any(ca4.nStation10 <= 1, axis=1)\n",
    "\n",
    "        def process_region(station_bits, MEx_hlt_range):\n",
    "            for MEx_hlt_cut in MEx_hlt_range:\n",
    "                for key, value in station_bits.items():\n",
    "                    station_bit1, station_bit2, l1_threshold = value\n",
    "                    l1sel = ak.any(elctHMT.bits >= 2, axis=1) & ak.any(elctHMT.WireNHits > l1_threshold, axis=1)\n",
    "                    hltcut = ak.any(ca4.size > MEx_hlt_cut, axis=1)\n",
    "\n",
    "                    zbsel = zb & l1sel & ((elctHMT.sr == station_bit1) | (elctHMT.sr == station_bit2))\n",
    "                    mbsel = mb & l1sel & ((elctHMT.sr == station_bit1) | (elctHMT.sr == station_bit2))\n",
    "\n",
    "                    zbfired = ak.count_nonzero(zbsel)\n",
    "                    mbfired = ak.count_nonzero(mbsel)\n",
    "                    \n",
    "                    hlt_zbfired = ak.count_nonzero(zbsel & hltcut)\n",
    "                    hlt_mbfired = ak.count_nonzero(mbsel & hltcut)  \n",
    "                    \n",
    "                    hlt_zbfired_cut = ak.count_nonzero(zbsel & hltcut & nStationCut)\n",
    "                    hlt_mbfired_cut = ak.count_nonzero(mbsel & hltcut & nStationCut)                        \n",
    "                                                  \n",
    "                    h_zb_nevt.fill(key, MEx_hlt_cut, np.full(zbfired, 0))\n",
    "                    h_zb_nevt.fill(key, MEx_hlt_cut, np.full(hlt_zbfired, 1))\n",
    "                    h_zb_nevt.fill(key, MEx_hlt_cut, np.full(hlt_zbfired_cut, 2))\n",
    "\n",
    "                    h_mb_nevt.fill(key, MEx_hlt_cut, np.full(mbfired, 0))\n",
    "                    h_mb_nevt.fill(key, MEx_hlt_cut, np.full(hlt_mbfired, 1))\n",
    "                    h_mb_nevt.fill(key, MEx_hlt_cut, np.full(hlt_mbfired_cut, 2))\n",
    "\n",
    "        process_region(stationInl1, hltrange)\n",
    "\n",
    "        return {\n",
    "            'h_tot': h_tot,\n",
    "            'h_zb_nevt': h_zb_nevt,\n",
    "            'h_mb_nevt': h_mb_nevt,\n",
    "        }\n",
    "\n",
    "    def postprocess(self, accumulator):\n",
    "        return accumulator"
   ]
  },
  {
   "cell_type": "code",
   "execution_count": 4,
   "id": "07204703-43bb-4e03-bde2-3af38497fddf",
   "metadata": {},
   "outputs": [
    {
     "data": {
      "application/vnd.jupyter.widget-view+json": {
       "model_id": "acc4f9541f84401f870107e4c9c21d19",
       "version_major": 2,
       "version_minor": 0
      },
      "text/plain": [
       "Output()"
      ]
     },
     "metadata": {},
     "output_type": "display_data"
    },
    {
     "data": {
      "text/html": [
       "<pre style=\"white-space:pre;overflow-x:auto;line-height:normal;font-family:Menlo,'DejaVu Sans Mono',consolas,'Courier New',monospace\"></pre>\n"
      ],
      "text/plain": []
     },
     "metadata": {},
     "output_type": "display_data"
    },
    {
     "data": {
      "text/html": [
       "<pre style=\"white-space:pre;overflow-x:auto;line-height:normal;font-family:Menlo,'DejaVu Sans Mono',consolas,'Courier New',monospace\">\n",
       "</pre>\n"
      ],
      "text/plain": [
       "\n"
      ]
     },
     "metadata": {},
     "output_type": "display_data"
    },
    {
     "data": {
      "application/vnd.jupyter.widget-view+json": {
       "model_id": "fb396ba9e33d4f4c90ec6806f5d12db1",
       "version_major": 2,
       "version_minor": 0
      },
      "text/plain": [
       "Output()"
      ]
     },
     "metadata": {},
     "output_type": "display_data"
    },
    {
     "data": {
      "text/html": [
       "<pre style=\"white-space:pre;overflow-x:auto;line-height:normal;font-family:Menlo,'DejaVu Sans Mono',consolas,'Courier New',monospace\"></pre>\n"
      ],
      "text/plain": []
     },
     "metadata": {},
     "output_type": "display_data"
    },
    {
     "data": {
      "text/html": [
       "<pre style=\"white-space:pre;overflow-x:auto;line-height:normal;font-family:Menlo,'DejaVu Sans Mono',consolas,'Courier New',monospace\">\n",
       "</pre>\n"
      ],
      "text/plain": [
       "\n"
      ]
     },
     "metadata": {},
     "output_type": "display_data"
    },
    {
     "name": "stdout",
     "output_type": "stream",
     "text": [
      "{'h_tot': Hist(\n",
      "  StrCategory(['zb', 'mb'], name='flag'),\n",
      "  Regular(1, 0, 1, name='# of total events'),\n",
      "  storage=Double()) # Sum: 156637918.0, 'h_zb_nevt': Hist(\n",
      "  StrCategory(['ME11', 'ME12', 'ME13', 'ME21', 'ME22', 'ME31', 'ME32', 'ME41', 'ME42'], growth=True, label='Axis 0'),\n",
      "  IntCategory([50, 60, 70, 80, 90, 100, 110, 120, 130, 140, 150, 160, 170, 180, 190, 200, 210, 220, 230, 240, 250, 260, 270, 280, 290, 300, 310, 320, 330, 340, 350], label='Axis 1'),\n",
      "  Regular(3, 0, 3, name='flags'),\n",
      "  storage=Double()) # Sum: 117870.0, 'h_mb_nevt': Hist(\n",
      "  StrCategory(['ME11', 'ME12', 'ME13', 'ME21', 'ME22', 'ME31', 'ME32', 'ME41', 'ME42'], growth=True, label='Axis 0'),\n",
      "  IntCategory([50, 60, 70, 80, 90, 100, 110, 120, 130, 140, 150, 160, 170, 180, 190, 200, 210, 220, 230, 240, 250, 260, 270, 280, 290, 300, 310, 320, 330, 340, 350], label='Axis 1'),\n",
      "  Regular(3, 0, 3, name='flags'),\n",
      "  storage=Double()) # Sum: 98137.0}\n"
     ]
    }
   ],
   "source": [
    "import time\n",
    "from coffea.nanoevents import BaseSchema\n",
    "from glob import glob\n",
    "\n",
    "tstart = time.time()\n",
    "\n",
    "futures_run = processor.Runner(\n",
    "    executor = processor.FuturesExecutor(compression=None, workers=12),\n",
    "    schema=BaseSchema,\n",
    "    maxchunks=50000,\n",
    ")\n",
    "\n",
    "fileset = {\n",
    "    'hitest_run362321': glob('../tmp/*.root')\n",
    "}\n",
    "\n",
    "# fileset = {\n",
    "#     'single': glob('../tmp/HITestRaw1.root')\n",
    "# }\n",
    "\n",
    "\n",
    "output = futures_run(\n",
    "    fileset,\n",
    "    treename=\"simpleCSCshowerFilter/hmt\",\n",
    "    processor_instance=MyProcessor(),\n",
    ")\n",
    "\n",
    "elapsed = time.time() - tstart\n",
    "\n",
    "print(output)"
   ]
  },
  {
   "cell_type": "code",
   "execution_count": 5,
   "id": "60179059-3b90-4646-ba62-d973806da89e",
   "metadata": {},
   "outputs": [],
   "source": [
    "import pickle\n",
    "filename = 'rate_hitest_run362321_hlt_nStationcut.pickle'\n",
    "# filename = 'test.pickle'\n",
    "outfile = open(filename, 'wb')\n",
    "pickle.dump(output, outfile)\n",
    "outfile.close()"
   ]
  },
  {
   "cell_type": "code",
   "execution_count": null,
   "id": "873c2282-979a-457d-ae56-dddaacd5fbfb",
   "metadata": {},
   "outputs": [],
   "source": [
    "output['h_tot']['zb', :].values()[0]"
   ]
  },
  {
   "cell_type": "code",
   "execution_count": null,
   "id": "d7d13051-1a34-482f-a78f-b51dc08f14ec",
   "metadata": {},
   "outputs": [],
   "source": [
    "output['h_mb_nevt']['ME11', 14, :].values()[0]"
   ]
  },
  {
   "cell_type": "code",
   "execution_count": null,
   "id": "dfcbec8a-3993-4275-b1eb-b1145c89a7ce",
   "metadata": {},
   "outputs": [],
   "source": [
    "output['h_mb_nevt']['ME11', 14, :].values()[1]"
   ]
  },
  {
   "cell_type": "code",
   "execution_count": null,
   "id": "ee18d52a-07d5-4ea9-877b-299a53f26c63",
   "metadata": {},
   "outputs": [],
   "source": [
    "output['h_zb_nevt']['ME12', 2, :].values()[0]"
   ]
  },
  {
   "cell_type": "code",
   "execution_count": null,
   "id": "32eb1be0-6446-4f4e-a373-5f6d401c67a6",
   "metadata": {},
   "outputs": [],
   "source": [
    "output['h_zb_nevt']['ME12', 2, :].values()[1]"
   ]
  },
  {
   "cell_type": "code",
   "execution_count": null,
   "id": "93df145b-183b-46f3-a66f-e53a6a2dcd77",
   "metadata": {},
   "outputs": [],
   "source": [
    "output['h_nevt']['ME12', 1, :].values()[1]"
   ]
  },
  {
   "cell_type": "code",
   "execution_count": null,
   "id": "9a4c25b6-4916-45ff-b15e-f685aa7b2bc2",
   "metadata": {},
   "outputs": [],
   "source": [
    "output['h_nevt']['ME13', 2, :].values()[1]"
   ]
  },
  {
   "cell_type": "code",
   "execution_count": null,
   "id": "dfaf97b3-cb80-4ff3-a1a2-b006dfca2884",
   "metadata": {},
   "outputs": [],
   "source": [
    "output['h_nevt']['ME21', 3, :].values()[1]"
   ]
  },
  {
   "cell_type": "code",
   "execution_count": null,
   "id": "ca189a38-8132-49b9-9dff-3a20f6de4508",
   "metadata": {},
   "outputs": [],
   "source": [
    "output['h_nevt']['ME22', 4, :].values()[1]"
   ]
  },
  {
   "cell_type": "code",
   "execution_count": null,
   "id": "5ebf6d70-854c-4328-be30-360753ab9f97",
   "metadata": {},
   "outputs": [],
   "source": [
    "output['h_nevt']['ME31', 5, :].values()[1]"
   ]
  },
  {
   "cell_type": "code",
   "execution_count": null,
   "id": "1a4d3895-a6b8-4024-a380-031e7ccb9424",
   "metadata": {},
   "outputs": [],
   "source": [
    "output['h_nevt']['ME32', 6, :].values()[1]"
   ]
  },
  {
   "cell_type": "code",
   "execution_count": null,
   "id": "86cdc8a6-1bac-4851-80a7-120ce096d8e3",
   "metadata": {},
   "outputs": [],
   "source": [
    "output['h_nevt']['ME41', 7, :].values()[1]"
   ]
  },
  {
   "cell_type": "code",
   "execution_count": null,
   "id": "1929d72c-e035-40c3-a8f7-be26fbc1e325",
   "metadata": {},
   "outputs": [],
   "source": [
    "output['h_nevt']['ME42', 8, :].values()[1]"
   ]
  },
  {
   "cell_type": "code",
   "execution_count": null,
   "id": "2406b3e0-fa1e-4262-9972-5fab66e37605",
   "metadata": {},
   "outputs": [],
   "source": []
  },
  {
   "cell_type": "code",
   "execution_count": null,
   "id": "a69101a4-3363-4819-9bbe-5d01d7ccde13",
   "metadata": {},
   "outputs": [],
   "source": []
  }
 ],
 "metadata": {
  "kernelspec": {
   "display_name": "Python 3 (ipykernel)",
   "language": "python",
   "name": "py3-preamble"
  },
  "language_info": {
   "codemirror_mode": {
    "name": "ipython",
    "version": 3
   },
   "file_extension": ".py",
   "mimetype": "text/x-python",
   "name": "python",
   "nbconvert_exporter": "python",
   "pygments_lexer": "ipython3",
   "version": "3.9.15"
  }
 },
 "nbformat": 4,
 "nbformat_minor": 5
}
