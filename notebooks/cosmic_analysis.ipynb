{
 "cells": [
  {
   "cell_type": "code",
   "execution_count": null,
   "metadata": {
    "tags": []
   },
   "outputs": [],
   "source": [
    "import awkward as ak\n",
    "from coffea import processor\n",
    "import hist\n",
    "from hist import Hist\n",
    "import numpy as np\n",
    "import matplotlib.pyplot as plt\n",
    "import mplhep as hep\n",
    "from glob import glob\n",
    "import pickle\n",
    "import warnings\n",
    "import uproot as up\n",
    "warnings.filterwarnings('ignore')\n",
    "hep.style.use('CMS')\n",
    "\n",
    "from coffea.nanoevents import NanoEventsFactory, BaseSchema\n",
    "from coffea.nanoevents.methods import candidate\n",
    "from coffea.nanoevents.methods import vector\n",
    "ak.behavior.update(candidate.behavior)"
   ]
  },
  {
   "cell_type": "code",
   "execution_count": null,
   "metadata": {
    "tags": []
   },
   "outputs": [],
   "source": [
    "f = \"../../inputs/plots_cosmic_run371290.root\"\n",
    "events = NanoEventsFactory.from_root(\n",
    "    f,\n",
    "    treepath=\"simpleCSCshowerFilter/hmt\",\n",
    "    schemaclass=BaseSchema,\n",
    "    # entry_start=0,\n",
    "    # entry_stop=50000,\n",
    ").events()"
   ]
  },
  {
   "cell_type": "code",
   "execution_count": null,
   "metadata": {
    "tags": []
   },
   "outputs": [],
   "source": [
    "hmt = events[events.passL1==1]"
   ]
  },
  {
   "cell_type": "code",
   "execution_count": null,
   "metadata": {
    "tags": []
   },
   "outputs": [],
   "source": [
    "hmt"
   ]
  },
  {
   "cell_type": "code",
   "execution_count": null,
   "metadata": {
    "tags": []
   },
   "outputs": [],
   "source": [
    "cls = ak.zip(\n",
    "    {k.replace(\"ca4CSCcluster\",\"\"):getattr(hmt,k) for k in hmt.fields if k.startswith(\"ca4CSCcluster\")}\n",
    "    ,with_name=\"PtEtaPhiMLorentzVector\", \n",
    "    behavior=vector.behavior\n",
    ")\n",
    "\n",
    "lctHMT = ak.zip({k.replace(\"lctHMT_\",\"\"):getattr(hmt,k) for k in hmt.fields if k.startswith(\"lctHMT_\")})\n",
    "elctHMT = ak.zip({k.replace(\"elctHMT_\",\"\"):getattr(hmt,k) for k in hmt.fields if k.startswith(\"elctHMT_\")})\n",
    "\n",
    "hmt.uniqueStation = ak.max(hmt.cscRechitsChamber,axis=1)==ak.min(hmt.cscRechitsChamber,axis=1)\n",
    "hmt.passL1_emul = ak.any(hmt.elctHMT_bits>1,axis=1)\n",
    "cls.R = (cls.X**2+ cls.Y**2)**0.5"
   ]
  },
  {
   "cell_type": "markdown",
   "metadata": {
    "tags": []
   },
   "source": [
    "## Plot Anode WireHit"
   ]
  },
  {
   "cell_type": "code",
   "execution_count": null,
   "metadata": {
    "tags": []
   },
   "outputs": [],
   "source": [
    "fig, axs = plt.subplots(3,3, dpi=200, figsize=(24,18))\n",
    "axs = axs.flatten()\n",
    "\n",
    "def plotNhit(ax,hmtNhit):\n",
    "    h = Hist(hist.axis.Regular(50, 0, 250, name=\"Nhit\", label=\"AnodeWireHit\"))\n",
    "    h.fill(Nhit=ak.flatten(hmtNhit))\n",
    "    hep.histplot(h, ax=ax)\n",
    "    ax.set_yscale(\"log\")\n",
    "    ymin,ymax = ax.get_ylim()\n",
    "    ax.set_ylim(0.5,ymax*50)    \n",
    "    return ax\n",
    "\n",
    "for i,region in enumerate([(8,9),(7,10),(6,11),(5,12),(4,13),(3,14),(2,15),(1,16),(0,17)]):\n",
    "    match = (hmt.nelctHMT==hmt.nlctHMT) &(hmt.nlctHMT==1) & (hmt.nelctHMT==1)\n",
    "    m = elctHMT[match]\n",
    "    bit_match = (m.bits==lctHMT[match].bits)   \n",
    "    nhits = m[((m.sr==region[0])|(m.sr==region[1])) & (bit_match) ].WireNHits\n",
    "    plotNhit(axs[i],nhits)\n",
    "\n",
    "labels = [\"ME11\",\"ME12\",\"ME13\",'ME21','ME22','ME31','ME32',\"ME41\",\"ME42\"]\n",
    "\n",
    "runNumber = \"run-371290\"\n",
    "for i,ax in enumerate(axs):\n",
    "    ax.legend([\"%s\"%labels[i]], title=runNumber,loc=\"upper right\")\n",
    "    hep.cms.label(ax=ax, data=True, label=\"Preliminary\")\n",
    "\n",
    "plt.tight_layout()\n",
    "fig.savefig('./cosmic_run371290_anodeWireNHit.png')"
   ]
  },
  {
   "cell_type": "markdown",
   "metadata": {},
   "source": [
    "## Plot Comparator NHits"
   ]
  },
  {
   "cell_type": "code",
   "execution_count": null,
   "metadata": {
    "tags": []
   },
   "outputs": [],
   "source": [
    "fig, axs = plt.subplots(3,3, dpi=200, figsize=(24,18))\n",
    "axs = axs.flatten()\n",
    "\n",
    "def plotNhit(ax,hmtNhit):\n",
    "    h = Hist(hist.axis.Regular(50, 0, 250, name=\"Nhit\", label=\"ComparatorNHits\"))\n",
    "    h.fill(Nhit=ak.flatten(hmtNhit))\n",
    "    hep.histplot(h, ax=ax)\n",
    "    ax.set_yscale(\"log\")\n",
    "    ymin,ymax = ax.get_ylim()\n",
    "    ax.set_ylim(0.5,ymax*50) \n",
    "    return ax\n",
    "\n",
    "for i,region in enumerate([(8,9),(7,10),(6,11),(5,12),(4,13),(3,14),(2,15),(1,16),(0,17)]):\n",
    "    match = (hmt.nelctHMT==hmt.nlctHMT) & (hmt.nlctHMT==1) & (hmt.nelctHMT==1)\n",
    "    m = elctHMT[match]\n",
    "    bit_match = (m.bits==lctHMT[match].bits)   \n",
    "    nhits = m[((m.sr==region[0])|(m.sr==region[1])) & (bit_match) ].ComparatorNHits\n",
    "    plotNhit(axs[i],nhits)\n",
    "\n",
    "labels = [\"ME11\",\"ME12\",\"ME13\",'ME21','ME22','ME31','ME32',\"ME41\",\"ME42\"]\n",
    "\n",
    "runNumber = \"run-371290\"\n",
    "for i,ax in enumerate(axs):\n",
    "    ax.legend([\"%s\"%labels[i]], title=runNumber,loc=\"upper right\")\n",
    "    hep.cms.label(ax=ax, data=True, label=\"Preliminary\")\n",
    "\n",
    "plt.tight_layout()\n",
    "fig.savefig('./cosmic_run371290_comparatorNHits.png')"
   ]
  },
  {
   "cell_type": "markdown",
   "metadata": {},
   "source": [
    "## Offline object"
   ]
  },
  {
   "cell_type": "code",
   "execution_count": null,
   "metadata": {
    "tags": []
   },
   "outputs": [],
   "source": [
    "ME11 = (cls.R>100)&(cls.R<275) &(abs(cls.Z)>580)&(abs(cls.Z)<632) \n",
    "ME12 = (cls.R>275)&(cls.R<465) &(abs(cls.Z)>668)&(abs(cls.Z)<724)\n",
    "ME13 = (cls.R>505)&(cls.R<700) &(abs(cls.Z)>668)&(abs(cls.Z)<724)\n",
    "\n",
    "ME21 = (cls.R>139)&(cls.R<345) &(abs(cls.Z)>789)&(abs(cls.Z)<850)\n",
    "ME22 = (cls.R>357)&(cls.R<700) &(abs(cls.Z)>791)&(abs(cls.Z)<850)\n",
    "\n",
    "ME31 = (cls.R>160)&(cls.R<345) &(abs(cls.Z)>915)&(abs(cls.Z)<970)\n",
    "ME32 = (cls.R>357)&(cls.R<700) &(abs(cls.Z)>911)&(abs(cls.Z)<970)\n",
    "\n",
    "ME41 = (cls.R>178)&(cls.R<345) &(abs(cls.Z)>1002)&(abs(cls.Z)<1063)\n",
    "ME42 = (cls.R>357)&(cls.R<700) &(abs(cls.Z)>1002)&(abs(cls.Z)<1063)\n",
    "\n",
    "fig, axs = plt.subplots(3,3, dpi=200, figsize=(24,18))\n",
    "axs = axs.flatten()\n",
    "\n",
    "def plotClusterTime(ax, hmtNhit):\n",
    "    h = Hist(hist.axis.Regular(60, -60, 60, name=\"ClusterTime\", label=\"ClusterTime\"))\n",
    "    h.fill(ClusterTime=ak.flatten(hmtNhit))\n",
    "    hep.histplot(h, ax=ax)\n",
    "    ax.set_yscale(\"log\")\n",
    "    ymin,ymax = ax.get_ylim()\n",
    "    ax.set_ylim(0.5,ymax*50)    \n",
    "    return ax\n",
    "\n",
    "for i,region in enumerate([ME11,ME12,ME13,ME21,ME22,ME31,ME32,ME41,ME42]):\n",
    "    sel = ak.all(region&(cls.Nstation10==1),axis=1) \n",
    "    time = cls[sel].Time\n",
    "    plotClusterTime(axs[i],time)\n",
    "\n",
    "labels = [\"ME11\",\"ME12\",\"ME13\",'ME21','ME22','ME31','ME32',\"ME41\",\"ME42\"]\n",
    "runNumber = \"run-371290\"\n",
    "for i,ax in enumerate(axs):\n",
    "    ax.set_xlabel(\"Cluster time\")\n",
    "    ax.legend([\"%s\"%labels[i]], title=runNumber,loc=\"upper right\")\n",
    "    hep.cms.label(ax=ax, data=True, label=\"Preliminary\")\n",
    "\n",
    "plt.tight_layout()\n",
    "fig.savefig('./cosmic_run371290_ca4ClusterTime.png')"
   ]
  },
  {
   "cell_type": "code",
   "execution_count": null,
   "metadata": {
    "tags": []
   },
   "outputs": [],
   "source": [
    "ME11 = (cls.R>100)&(cls.R<275) &(abs(cls.Z)>580)&(abs(cls.Z)<632) \n",
    "ME12 = (cls.R>275)&(cls.R<465) &(abs(cls.Z)>668)&(abs(cls.Z)<724)\n",
    "ME13 = (cls.R>505)&(cls.R<700) &(abs(cls.Z)>668)&(abs(cls.Z)<724)\n",
    "\n",
    "ME21 = (cls.R>139)&(cls.R<345) &(abs(cls.Z)>789)&(abs(cls.Z)<850)\n",
    "ME22 = (cls.R>357)&(cls.R<700) &(abs(cls.Z)>791)&(abs(cls.Z)<850)\n",
    "\n",
    "ME31 = (cls.R>160)&(cls.R<345) &(abs(cls.Z)>915)&(abs(cls.Z)<970)\n",
    "ME32 = (cls.R>357)&(cls.R<700) &(abs(cls.Z)>911)&(abs(cls.Z)<970)\n",
    "\n",
    "ME41 = (cls.R>178)&(cls.R<345) &(abs(cls.Z)>1002)&(abs(cls.Z)<1063)\n",
    "ME42 = (cls.R>357)&(cls.R<700) &(abs(cls.Z)>1002)&(abs(cls.Z)<1063)\n",
    "\n",
    "fig, axs = plt.subplots(3,3, dpi=200, figsize=(24,18))\n",
    "axs = axs.flatten()\n",
    "\n",
    "def plotClusterSize(ax, hmtNhit):\n",
    "    h = Hist(hist.axis.Regular(100, 10, 3000, name=\"ClusterSize\", label=\"Cluster Size\"))\n",
    "    h.fill(ClusterSize=ak.flatten(hmtNhit))\n",
    "    hep.histplot(h, ax=ax)\n",
    "    ax.set_yscale(\"log\")\n",
    "    ymin,ymax = ax.get_ylim()\n",
    "    ax.set_ylim(0.5,ymax*50)    \n",
    "    return ax\n",
    "\n",
    "for i,region in enumerate([ME11,ME12,ME13,ME21,ME22,ME31,ME32,ME41,ME42]):\n",
    "    sel = ak.all(region&(cls.Nstation10==1),axis=1) \n",
    "    size = cls[sel].Size\n",
    "    plotClusterSize(axs[i],size)\n",
    "\n",
    "labels = [\"ME11\",\"ME12\",\"ME13\",'ME21','ME22','ME31','ME32',\"ME41\",\"ME42\"]\n",
    "runNumber = \"run-371290\"\n",
    "for i,ax in enumerate(axs):\n",
    "    ax.set_xlabel(\"Cluster Size\")\n",
    "    ax.legend([\"%s\"%labels[i]], title=runNumber,loc=\"upper right\")\n",
    "    hep.cms.label(ax=ax, data=True, label=\"Preliminary\")\n",
    "\n",
    "plt.tight_layout()\n",
    "fig.savefig('./cosmic_run371290_ca4ClusterSize.png')"
   ]
  },
  {
   "cell_type": "code",
   "execution_count": null,
   "metadata": {
    "tags": []
   },
   "outputs": [],
   "source": [
    "ME11 = (cls.R>100)&(cls.R<275) &(abs(cls.Z)>580)&(abs(cls.Z)<632) \n",
    "ME12 = (cls.R>275)&(cls.R<465) &(abs(cls.Z)>668)&(abs(cls.Z)<724)\n",
    "ME13 = (cls.R>505)&(cls.R<700) &(abs(cls.Z)>668)&(abs(cls.Z)<724)\n",
    "\n",
    "ME21 = (cls.R>139)&(cls.R<345) &(abs(cls.Z)>789)&(abs(cls.Z)<850)\n",
    "ME22 = (cls.R>357)&(cls.R<700) &(abs(cls.Z)>791)&(abs(cls.Z)<850)\n",
    "\n",
    "ME31 = (cls.R>160)&(cls.R<345) &(abs(cls.Z)>915)&(abs(cls.Z)<970)\n",
    "ME32 = (cls.R>357)&(cls.R<700) &(abs(cls.Z)>911)&(abs(cls.Z)<970)\n",
    "\n",
    "ME41 = (cls.R>178)&(cls.R<345) &(abs(cls.Z)>1002)&(abs(cls.Z)<1063)\n",
    "ME42 = (cls.R>357)&(cls.R<700) &(abs(cls.Z)>1002)&(abs(cls.Z)<1063)\n",
    "\n",
    "fig, axs = plt.subplots(3,3, dpi=200, figsize=(24,18))\n",
    "axs = axs.flatten()\n",
    "\n",
    "def plotClusterSize(ax, hmtNhit):\n",
    "    h = Hist(hist.axis.Regular(100, 10, 3000, name=\"ClusterSize\", label=\"Cluster Size\"))\n",
    "    h.fill(ClusterSize=ak.flatten(hmtNhit))\n",
    "    hep.histplot(h, ax=ax)\n",
    "    ax.set_yscale(\"log\")\n",
    "    ymin,ymax = ax.get_ylim()\n",
    "    ax.set_ylim(0.5,ymax*50)    \n",
    "    return ax\n",
    "\n",
    "for i,region in enumerate([ME11,ME12,ME13,ME21,ME22,ME31,ME32,ME41,ME42]):\n",
    "    sel = ak.all(region&(cls.Nstation10==1),axis=1) \n",
    "    size = ak.max(cls[sel].Size,axis=1)\n",
    "    plotClusterSize(axs[i],size)\n",
    "\n",
    "labels = [\"ME11\",\"ME12\",\"ME13\",'ME21','ME22','ME31','ME32',\"ME41\",\"ME42\"]\n",
    "runNumber = \"run-371290\"\n",
    "for i,ax in enumerate(axs):\n",
    "    ax.set_xlabel(\"Cluster Size\")\n",
    "    ax.legend([\"%s\"%labels[i]], title=runNumber,loc=\"upper right\")\n",
    "    hep.cms.label(ax=ax, data=True, label=\"Preliminary\")\n",
    "\n",
    "plt.tight_layout()\n",
    "fig.savefig('./cosmic_run371290_Max_ca4ClusterSize.png')"
   ]
  },
  {
   "cell_type": "code",
   "execution_count": null,
   "metadata": {},
   "outputs": [],
   "source": []
  }
 ],
 "metadata": {
  "kernelspec": {
   "display_name": "Python 3 (ipykernel)",
   "language": "python",
   "name": "py3-preamble"
  },
  "language_info": {
   "codemirror_mode": {
    "name": "ipython",
    "version": 3
   },
   "file_extension": ".py",
   "mimetype": "text/x-python",
   "name": "python",
   "nbconvert_exporter": "python",
   "pygments_lexer": "ipython3",
   "version": "3.9.15"
  }
 },
 "nbformat": 4,
 "nbformat_minor": 4
}
