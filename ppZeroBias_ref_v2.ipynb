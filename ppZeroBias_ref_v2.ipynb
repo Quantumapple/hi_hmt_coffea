{
 "cells": [
  {
   "cell_type": "code",
   "execution_count": 2,
   "id": "468c4d4c",
   "metadata": {},
   "outputs": [],
   "source": [
    "import awkward as ak\n",
    "from coffea import processor\n",
    "from coffea.nanoevents.methods import candidate\n",
    "import hist\n",
    "import pandas as pd\n",
    "import numpy as np\n",
    "import pathlib\n",
    "import shutil\n",
    "import os\n",
    "import matplotlib.pyplot as plt\n",
    "import mplhep as hep\n",
    "import warnings\n",
    "warnings.filterwarnings('ignore')"
   ]
  },
  {
   "cell_type": "code",
   "execution_count": 3,
   "id": "cb44c0f8-a47d-4c33-beb2-bcf36d067894",
   "metadata": {},
   "outputs": [],
   "source": [
    "class MyProcessor(processor.ProcessorABC):\n",
    "    def __init__(self):\n",
    "        pass\n",
    "\n",
    "    def process(self, events):\n",
    "        dataset = events.metadata['dataset']\n",
    "        info = ak.zip(\n",
    "            {\n",
    "                \"runNum\": events.runNum,\n",
    "                \"lumiNum\": events.lumiNum,\n",
    "                \"evtNum\": events.eventNum,\n",
    "                \"nevt\": events.eventCounter,\n",
    "                \"ishlt\":events.isHLT_PPZeroBias,\n",
    "            }\n",
    "        )\n",
    "        \n",
    "        ca4 = ak.zip(\n",
    "            {\n",
    "                'ncsc':events.nca4CSCcluster,\n",
    "                'eta':events.ca4CSCclusterEta,\n",
    "                'phi':events.ca4CSCclusterPhi,\n",
    "                'x':events.ca4CSCclusterX,        \n",
    "                'y':events.ca4CSCclusterY,\n",
    "                'z':events.ca4CSCclusterZ,                \n",
    "                'size':events.ca4CSCclusterSize, # need for HLT numerator\n",
    "                'time':events.ca4CSCclusterTime,\n",
    "                'timeSpread':events.ca4CSCclusterTimeSpread,            \n",
    "                \"nME11_12\": events.ca4CSCclusterME11_12,\n",
    "                'time':events.ca4CSCclusterTime,            \n",
    "                \"nStation10\": events.ca4CSCclusterNstation10,\n",
    "                \"avgStation10\": events.ca4CSCclusterAvgStation10,            \n",
    "            }\n",
    "        )\n",
    "        \n",
    "        elctHMT = ak.zip(\n",
    "            {\n",
    "                'bits': events.elctHMT_bits,\n",
    "                'WireNHits': events.elctHMT_WireNHits,\n",
    "                'sr': events.elctHMT_sr,\n",
    "            }\n",
    "        )\n",
    "        \n",
    "        ### Preselection based on HLT_ZeroBias_v7\n",
    "        presel = info.ishlt\n",
    "        ca4 = ca4[presel]\n",
    "        elctHMT = elctHMT[presel]\n",
    "        \n",
    "        ## Threshold array\n",
    "        # arr1 = np.arange(25, 76, 5)\n",
    "        # arr2 = np.arange(10, 25)\n",
    "        # arr = np.concatenate((arr2, arr1), axis=None)\n",
    "        arr = np.arange(10, 31)\n",
    "        \n",
    "        names = ['ME11', 'ME12', 'ME13', 'ME21', 'ME22', 'ME31', 'ME32', 'ME41', 'ME42']\n",
    "\n",
    "        sta_axis = hist.axis.StrCategory(names, growth=True)\n",
    "        cls_axis = hist.axis.Regular(50, 10, 1000, name=\"clusterSize\")\n",
    "        thr_axis = hist.axis.IntCategory(arr)\n",
    "\n",
    "        h_denom = hist.Hist(sta_axis, cls_axis, label=\"Denom\")\n",
    "        h_numer = hist.Hist(sta_axis, thr_axis, cls_axis, label=\"Numer\")\n",
    "        \n",
    "        ca4.R = (ca4.x**2+ ca4.y**2)**0.5\n",
    "        \n",
    "        ## Define station based on \n",
    "        ME11 = (ca4.R>100)&(ca4.R<275) &(abs(ca4.z)>580)&(abs(ca4.z)<632) \n",
    "        ME12 = (ca4.R>275)&(ca4.R<465) &(abs(ca4.z)>668)&(abs(ca4.z)<724)\n",
    "        ME13 = (ca4.R>505)&(ca4.R<700) &(abs(ca4.z)>668)&(abs(ca4.z)<724)\n",
    "\n",
    "        ME21 = (ca4.R>139)&(ca4.R<345) &(abs(ca4.z)>789)&(abs(ca4.z)<850)\n",
    "        ME22 = (ca4.R>357)&(ca4.R<700) &(abs(ca4.z)>791)&(abs(ca4.z)<850)\n",
    "\n",
    "        ME31 = (ca4.R>160)&(ca4.R<345) &(abs(ca4.z)>915)&(abs(ca4.z)<970)\n",
    "        ME32 = (ca4.R>357)&(ca4.R<700) &(abs(ca4.z)>911)&(abs(ca4.z)<970)\n",
    "\n",
    "        ME41 = (ca4.R>178)&(ca4.R<345) &(abs(ca4.z)>1002)&(abs(ca4.z)<1063)\n",
    "        ME42 = (ca4.R>357)&(ca4.R<700) &(abs(ca4.z)>1002)&(abs(ca4.z)<1063)\n",
    "        \n",
    "        for i, region in enumerate([ME11,ME12,ME13,ME21,ME22,ME31,ME32,ME41,ME42]):\n",
    "            sel = (ak.num(ca4, axis=1) > 0) & ak.all(region & (ca4.nStation10==1) & (ca4.ncsc==1), axis=1)\n",
    "            #masked_ca4_size = ak.mask(ca4.size, sel)                \n",
    "            denom = ak.fill_none(ak.max(ca4[sel].size, axis=1), -1)     \n",
    "            h_denom.fill(names[i], denom)\n",
    "            \n",
    "            \n",
    "            # masked_elctHMT = ak.mask(elctHMT.WireNHits, sel)\n",
    "            # tmp = ak.mask(denom, ak.any(elctHMT.bits > 1, axis=1))\n",
    "        \n",
    "            for thres in arr:\n",
    "                numer = ak.fill_none(denom[ak.any(elctHMT[sel].WireNHits>thres,axis=1)],-1) \n",
    "                # tmp2 = ak.mask(tmp, ak.any(masked_elctHMT > thres, axis=1))\n",
    "                # numer = ak.fill_none(tmp2, -1)\n",
    "                h_numer.fill(names[i], thres, numer)\n",
    "                  \n",
    "        return {\n",
    "            'h_denom': h_denom,\n",
    "            'h_numer': h_numer,\n",
    "        }\n",
    "\n",
    "    def postprocess(self, accumulator):\n",
    "        return accumulator"
   ]
  },
  {
   "cell_type": "code",
   "execution_count": 9,
   "id": "bff7bc04-0aa8-4d7b-9141-60cf34fb154b",
   "metadata": {},
   "outputs": [
    {
     "data": {
      "application/vnd.jupyter.widget-view+json": {
       "model_id": "16d304188aaf40cbb3bc50550f23eda6",
       "version_major": 2,
       "version_minor": 0
      },
      "text/plain": [
       "Output()"
      ]
     },
     "metadata": {},
     "output_type": "display_data"
    },
    {
     "data": {
      "text/html": [
       "<pre style=\"white-space:pre;overflow-x:auto;line-height:normal;font-family:Menlo,'DejaVu Sans Mono',consolas,'Courier New',monospace\"></pre>\n"
      ],
      "text/plain": []
     },
     "metadata": {},
     "output_type": "display_data"
    },
    {
     "data": {
      "text/html": [
       "<pre style=\"white-space:pre;overflow-x:auto;line-height:normal;font-family:Menlo,'DejaVu Sans Mono',consolas,'Courier New',monospace\">\n",
       "</pre>\n"
      ],
      "text/plain": [
       "\n"
      ]
     },
     "metadata": {},
     "output_type": "display_data"
    },
    {
     "data": {
      "application/vnd.jupyter.widget-view+json": {
       "model_id": "bf0cd39e2ce94fe98da5543e528acaa8",
       "version_major": 2,
       "version_minor": 0
      },
      "text/plain": [
       "Output()"
      ]
     },
     "metadata": {},
     "output_type": "display_data"
    },
    {
     "data": {
      "text/html": [
       "<pre style=\"white-space:pre;overflow-x:auto;line-height:normal;font-family:Menlo,'DejaVu Sans Mono',consolas,'Courier New',monospace\"></pre>\n"
      ],
      "text/plain": []
     },
     "metadata": {},
     "output_type": "display_data"
    },
    {
     "data": {
      "text/html": [
       "<pre style=\"white-space:pre;overflow-x:auto;line-height:normal;font-family:Menlo,'DejaVu Sans Mono',consolas,'Courier New',monospace\">\n",
       "</pre>\n"
      ],
      "text/plain": [
       "\n"
      ]
     },
     "metadata": {},
     "output_type": "display_data"
    },
    {
     "name": "stdout",
     "output_type": "stream",
     "text": [
      "{'h_denom': Hist(\n",
      "  StrCategory(['ME11', 'ME12', 'ME13', 'ME21', 'ME22', 'ME31', 'ME32', 'ME41', 'ME42'], growth=True, label='Axis 0'),\n",
      "  Regular(50, 10, 1000, name='clusterSize'),\n",
      "  storage=Double()) # Sum: 690671.0 (690673.0 with flow), 'h_numer': Hist(\n",
      "  StrCategory(['ME11', 'ME12', 'ME13', 'ME21', 'ME22', 'ME31', 'ME32', 'ME41', 'ME42'], growth=True, label='Axis 0'),\n",
      "  IntCategory([10, 11, 12, 13, 14, 15, 16, 17, 18, 19, 20, 21, 22, 23, 24, 25, 26, 27, 28, 29, 30], label='Axis 1'),\n",
      "  Regular(50, 10, 1000, name='clusterSize'),\n",
      "  storage=Double()) # Sum: 788199.0 (788240.0 with flow)}\n"
     ]
    }
   ],
   "source": [
    "import time\n",
    "from coffea.nanoevents import BaseSchema\n",
    "\n",
    "tstart = time.time()\n",
    "\n",
    "futures_run = processor.Runner(\n",
    "    executor = processor.FuturesExecutor(compression=None, workers=12),\n",
    "    schema=BaseSchema,\n",
    "    maxchunks=50000,\n",
    ")\n",
    "\n",
    "fileset = {\n",
    "    'run2022c': open(\"ppZeroBias_Run2022C_hltinclude.txt\").read().split(\"\\n\"),\n",
    "    'run2022e': open(\"ppZeroBias_Run2022E_hltinclude.txt\").read().split(\"\\n\")\n",
    "}\n",
    "\n",
    "# fileset = {\n",
    "#     'test': [\n",
    "#         './plots_487.root',\n",
    "#     ],\n",
    "# }\n",
    "\n",
    "output = futures_run(\n",
    "    fileset,\n",
    "    treename=\"simpleCSCshowerFilter/hmt\",\n",
    "    processor_instance=MyProcessor(),\n",
    ")\n",
    "\n",
    "elapsed = time.time() - tstart\n",
    "\n",
    "print(output)"
   ]
  },
  {
   "cell_type": "code",
   "execution_count": 11,
   "id": "cdd5c48a-50e7-4956-bc69-166ab409c668",
   "metadata": {},
   "outputs": [
    {
     "data": {
      "text/html": [
       "<html>\n",
       "<div style=\"display:flex; align-items:center;\">\n",
       "<div style=\"width:290px;\">\n",
       "<svg xmlns=\"http://www.w3.org/2000/svg\" viewBox=\"-10 -105 270 120\">\n",
       "<line x1=\"-5\" y1=\"0\" x2=\"255\" y2=\"0\" style=\"fill:none;stroke-width:2;stroke:currentColor\"/>\n",
       "<text text-anchor=\"middle\" x=\"0\" y=\"15\" style=\"fill:currentColor;\">\n",
       "10\n",
       "</text>\n",
       "<text text-anchor=\"middle\" x=\"250\" y=\"15\" style=\"fill:currentColor;\">\n",
       "1e+03\n",
       "</text>\n",
       "<text text-anchor=\"middle\" x=\"125.0\" y=\"15\" style=\"fill:currentColor;\">\n",
       "clusterSize\n",
       "</text>\n",
       "<polyline points=\"  0,0   0,-0   5,-0   5,-0  10,-0  10,-100  15,-100  15,-60.6  20,-60.6  20,-30.1  25,-30.1  25,-16.7  30,-16.7  30,-8.78  35,-8.78  35,-4.38  40,-4.38  40,-2.49  45,-2.49  45,-1.36  50,-1.36  50,-0.9  55,-0.9  55,-0.445  60,-0.445  60,-0.383  65,-0.383  65,-0.228  70,-0.228  70,-0.135  75,-0.135  75,-0.145  80,-0.145  80,-0.0724  85,-0.0724  85,-0.0103  90,-0.0103  90,-0.103  95,-0.103  95,-0.0103 100,-0.0103 100,-0.0103 105,-0.0103 105,-0 110,-0 110,-0.0207 115,-0.0207 115,-0 120,-0 120,-0.0103 125,-0.0103 125,-0 130,-0 130,-0 135,-0 135,-0 140,-0 140,-0 145,-0 145,-0 150,-0 150,-0 155,-0 155,-0 160,-0 160,-0 165,-0 165,-0 170,-0 170,-0 175,-0 175,-0 180,-0 180,-0 185,-0 185,-0 190,-0 190,-0 195,-0 195,-0 200,-0 200,-0.0103 205,-0.0103 205,-0 210,-0 210,-0 215,-0 215,-0 220,-0 220,-0 225,-0 225,-0 230,-0 230,-0 235,-0 235,-0 240,-0 240,-0 245,-0 245,-0 250,-0 250,0\" style=\"fill:none; stroke:currentColor;\"/>\n",
       "</svg>\n",
       "</div>\n",
       "<div style=\"flex=grow:1;\">\n",
       "Regular(50, 10, 1000, name='clusterSize')<br/>\n",
       "<hr style=\"margin-top:.2em; margin-bottom:.2em;\"/>\n",
       "Double() Σ=21923.0\n",
       "\n",
       "</div>\n",
       "</div>\n",
       "</html>"
      ],
      "text/plain": [
       "Hist(Regular(50, 10, 1000, name='clusterSize'), storage=Double()) # Sum: 21923.0"
      ]
     },
     "execution_count": 11,
     "metadata": {},
     "output_type": "execute_result"
    }
   ],
   "source": [
    "output['h_numer']['ME21', 0, :]"
   ]
  },
  {
   "cell_type": "code",
   "execution_count": 10,
   "id": "fb95c4ab-f8d8-43ef-a444-098ae194a051",
   "metadata": {},
   "outputs": [],
   "source": [
    "import pickle\n",
    "filename = 'histograms_hltpath_zb_v7.pickle'\n",
    "outfile = open(filename, 'wb')\n",
    "pickle.dump(output, outfile)\n",
    "outfile.close()"
   ]
  },
  {
   "cell_type": "code",
   "execution_count": null,
   "id": "2c0edb53-c0eb-48c8-ae10-6ce64e3bc384",
   "metadata": {},
   "outputs": [],
   "source": [
    "# ### Before hlt path included\n",
    "\n",
    "# class MyProcessor(processor.ProcessorABC):\n",
    "#     def __init__(self):\n",
    "#         pass\n",
    "\n",
    "#     def process(self, events):\n",
    "#         dataset = events.metadata['dataset']\n",
    "#         info = ak.zip(\n",
    "#             {\n",
    "#                 \"runNum\": events.runNum,\n",
    "#                 \"lumiNum\": events.lumiNum,\n",
    "#                 \"evtNum\": events.eventNum,\n",
    "#                 \"nevt\": events.eventCounter,\n",
    "#                 \"ishlt\":events.isHLT_PPZeroBias,\n",
    "#             }\n",
    "#         )\n",
    "        \n",
    "#         ca4 = ak.zip(\n",
    "#             {\n",
    "#                 'ncsc':events.nca4CSCcluster,\n",
    "#                 'eta':events.ca4CSCclusterEta,\n",
    "#                 'phi':events.ca4CSCclusterPhi,\n",
    "#                 'x':events.ca4CSCclusterX,        \n",
    "#                 'y':events.ca4CSCclusterY,\n",
    "#                 'z':events.ca4CSCclusterZ,                \n",
    "#                 'size':events.ca4CSCclusterSize, # need for HLT numerator\n",
    "#                 'time':events.ca4CSCclusterTime,\n",
    "#                 'timeSpread':events.ca4CSCclusterTimeSpread,            \n",
    "#                 \"nME11_12\": events.ca4CSCclusterME11_12,\n",
    "#                 'time':events.ca4CSCclusterTime,            \n",
    "#                 \"nStation10\": events.ca4CSCclusterNstation10,\n",
    "#                 \"avgStation10\": events.ca4CSCclusterAvgStation10,            \n",
    "#             }\n",
    "#         )\n",
    "        \n",
    "#         elctHMT = ak.zip(\n",
    "#             {\n",
    "#                 'bits': events.elctHMT_bits,\n",
    "#                 'WireNHits': events.elctHMT_WireNHits,\n",
    "#                 'sr': events.elctHMT_sr,\n",
    "#             }\n",
    "#         )\n",
    "        \n",
    "#         ## Threshold array\n",
    "#         arr1 = np.arange(25, 76, 5)\n",
    "#         arr2 = np.arange(10, 25)\n",
    "#         arr = np.concatenate((arr2, arr1), axis=None)\n",
    "        \n",
    "#         names = ['ME11', 'ME12', 'ME13', 'ME21', 'ME22', 'ME31', 'ME32', 'ME41', 'ME42']\n",
    "\n",
    "#         sta_axis = hist.axis.StrCategory(names, growth=True)\n",
    "#         cls_axis = hist.axis.Regular(50, 10, 1000, name=\"clusterSize\")\n",
    "#         thr_axis = hist.axis.IntCategory(arr)\n",
    "\n",
    "#         h_denom = hist.Hist(sta_axis, cls_axis, label=\"Denom\")\n",
    "#         h_numer = hist.Hist(sta_axis, thr_axis, cls_axis, label=\"Numer\")\n",
    "        \n",
    "#         ca4.R = (ca4.x**2+ ca4.y**2)**0.5\n",
    "        \n",
    "#         ## Define station based on \n",
    "#         ME11 = (ca4.R>100)&(ca4.R<275) &(abs(ca4.z)>580)&(abs(ca4.z)<632) \n",
    "#         ME12 = (ca4.R>275)&(ca4.R<465) &(abs(ca4.z)>668)&(abs(ca4.z)<724)\n",
    "#         ME13 = (ca4.R>505)&(ca4.R<700) &(abs(ca4.z)>668)&(abs(ca4.z)<724)\n",
    "\n",
    "#         ME21 = (ca4.R>139)&(ca4.R<345) &(abs(ca4.z)>789)&(abs(ca4.z)<850)\n",
    "#         ME22 = (ca4.R>357)&(ca4.R<700) &(abs(ca4.z)>791)&(abs(ca4.z)<850)\n",
    "\n",
    "#         ME31 = (ca4.R>160)&(ca4.R<345) &(abs(ca4.z)>915)&(abs(ca4.z)<970)\n",
    "#         ME32 = (ca4.R>357)&(ca4.R<700) &(abs(ca4.z)>911)&(abs(ca4.z)<970)\n",
    "\n",
    "#         ME41 = (ca4.R>178)&(ca4.R<345) &(abs(ca4.z)>1002)&(abs(ca4.z)<1063)\n",
    "#         ME42 = (ca4.R>357)&(ca4.R<700) &(abs(ca4.z)>1002)&(abs(ca4.z)<1063)\n",
    "        \n",
    "# #         def dump_pandas(pddf: pd.DataFrame, fname: str):       \n",
    "# #             dirname = str(dataset)\n",
    "# #             if not os.path.exists(dirname):\n",
    "# #                 pathlib.Path(dirname).mkdir(parents=True, exist_ok=True)\n",
    "            \n",
    "# #             local_file = (os.path.abspath(os.path.join(\".\", dirname, fname)))\n",
    "# #             pddf.to_parquet(local_file)\n",
    "        \n",
    "# #         df_denom = pd.DataFrame()    \n",
    "# #         df_numer = pd.DataFrame()\n",
    "        \n",
    "#         for i, region in enumerate([ME11,ME12,ME13,ME21,ME22,ME31,ME32,ME41,ME42]):\n",
    "#             sel = (ak.num(ca4, axis=1) > 0) & ak.all(region & (ca4.nStation10==1) & (ca4.ncsc==1), axis=1)\n",
    "#             masked_ca4_size = ak.mask(ca4.size, sel)                \n",
    "#             denom = ak.fill_none(ak.max(masked_ca4_size, axis=1), -1)     \n",
    "                                          \n",
    "#             h_denom.fill(names[i], denom)\n",
    "            \n",
    "#             masked_elctHMT = ak.mask(elctHMT.WireNHits, sel)\n",
    "#             tmp = ak.mask(denom, ak.any(elctHMT.bits > 1, axis=1))\n",
    "        \n",
    "#             for thres in arr:\n",
    "#                 tmp2 = ak.mask(tmp, ak.any(masked_elctHMT > thres, axis=1))\n",
    "#                 numer = ak.fill_none(tmp2, -1)\n",
    "#                 h_numer.fill(names[i], thres, numer)\n",
    "                  \n",
    "#         return {\n",
    "#             'h_denom': h_denom,\n",
    "#             'h_numer': h_numer,\n",
    "#         }\n",
    "\n",
    "#     def postprocess(self, accumulator):\n",
    "#         return accumulator"
   ]
  },
  {
   "cell_type": "code",
   "execution_count": null,
   "id": "07204703-43bb-4e03-bde2-3af38497fddf",
   "metadata": {},
   "outputs": [],
   "source": [
    "# import time\n",
    "# from coffea.nanoevents import BaseSchema\n",
    "\n",
    "# tstart = time.time()\n",
    "\n",
    "# futures_run = processor.Runner(\n",
    "#     executor = processor.FuturesExecutor(compression=None, workers=12),\n",
    "#     schema=BaseSchema,\n",
    "#     maxchunks=50000,\n",
    "# )\n",
    "\n",
    "# # fileset = {\n",
    "# #     'run2022c': open(\"ppZeroBias_Run2022C_hltinclude.txt\").read().split(\"\\n\"),\n",
    "# #     'run2022e': open(\"ppZeroBias_Run2022E_hltinclude.txt\").read().split(\"\\n\")\n",
    "# # }\n",
    "\n",
    "# fileset = {\n",
    "#     'test': [\n",
    "#         './plots_487.root',\n",
    "#     ],\n",
    "# }\n",
    "\n",
    "# output = futures_run(\n",
    "#     fileset,\n",
    "#     treename=\"simpleCSCshowerFilter/hmt\",\n",
    "#     processor_instance=MyProcessor(),\n",
    "# )\n",
    "\n",
    "# elapsed = time.time() - tstart\n",
    "\n",
    "# print(output)"
   ]
  },
  {
   "cell_type": "code",
   "execution_count": null,
   "id": "60179059-3b90-4646-ba62-d973806da89e",
   "metadata": {},
   "outputs": [],
   "source": [
    "import pickle\n",
    "filename = 'histograms_v2.pickle'\n",
    "outfile = open(filename, 'wb')\n",
    "pickle.dump(output, outfile)\n",
    "outfile.close()"
   ]
  },
  {
   "cell_type": "code",
   "execution_count": null,
   "id": "ee18d52a-07d5-4ea9-877b-299a53f26c63",
   "metadata": {},
   "outputs": [],
   "source": [
    "output['h_numer']['ME11', 0, :]"
   ]
  },
  {
   "cell_type": "code",
   "execution_count": null,
   "id": "93df145b-183b-46f3-a66f-e53a6a2dcd77",
   "metadata": {},
   "outputs": [],
   "source": [
    "output['h_denom']['ME11', :]"
   ]
  },
  {
   "cell_type": "code",
   "execution_count": null,
   "id": "6463d020-6d05-4765-afc7-d88f01c079c2",
   "metadata": {},
   "outputs": [],
   "source": [
    "main_ax_artists, sublot_ax_arists = output['h_numer']['ME11', 10, :].plot_ratio(\n",
    "    output['h_denom']['ME11', :],\n",
    "    rp_ylabel=r\"Ratio\",\n",
    "    rp_num_label=\"Numer\",\n",
    "    rp_denom_label=\"Denom\",\n",
    "    rp_uncert_draw_type=\"line\",  # line or bar\n",
    ")"
   ]
  },
  {
   "cell_type": "code",
   "execution_count": null,
   "id": "942cddb9-0938-455d-8708-bad9d2f66edf",
   "metadata": {},
   "outputs": [],
   "source": [
    "#         df = pd.DataFrame()\n",
    "        \n",
    "#         totalevt = ak.sum(info.nevt, axis=0)\n",
    "#         #print(totalevt)\n",
    "        \n",
    "#         # remove empty sub-array \n",
    "#         for thres in arr:\n",
    "#             csc_threshold = ak.any(elctHMT.WireNHits > thres, axis=1)\n",
    "#             tmp = elctHMT[(ak.num(elctHMT, axis=1) > 0) & (ak.any(elctHMT.bits >= 2, axis=1)) & (csc_threshold)]\n",
    "\n",
    "#             ME11_sr = (tmp.sr==8) | (tmp.sr==9)\n",
    "#             ME12_sr = (tmp.sr==7) | (tmp.sr==10)\n",
    "#             ME13_sr = (tmp.sr==6) | (tmp.sr==11)\n",
    "\n",
    "#             ME21_sr = (tmp.sr==5) | (tmp.sr==12)\n",
    "#             ME22_sr = (tmp.sr==4) | (tmp.sr==13)\n",
    "\n",
    "#             ME31_sr = (tmp.sr==3) | (tmp.sr==14)\n",
    "#             ME32_sr = (tmp.sr==2) | (tmp.sr==15)\n",
    "\n",
    "#             ME41_sr = (tmp.sr==1) | (tmp.sr==16)\n",
    "#             ME42_sr = (tmp.sr==0) | (tmp.sr==17)\n",
    "        \n",
    "#             names = ['ME11', 'ME12', 'ME13', 'ME21', 'ME22', 'ME31', 'ME32', 'ME41', 'ME42']\n",
    "#             cnts = []\n",
    "#             for i, region in enumerate([ME11_sr,ME12_sr,ME13_sr,ME21_sr,ME22_sr,ME31_sr,ME32_sr,ME41_sr,ME42_sr]):\n",
    "#                 nevt = ak.count_nonzero(ak.any(region, axis=1))\n",
    "#                 cnts.append(nevt)\n",
    "            \n",
    "#             df[str(thres)] = cnts\n",
    "        \n",
    "#         def dump_pandas(pddf: pd.DataFrame, fname: str):       \n",
    "#             dirname = str(dataset)\n",
    "#             if not os.path.exists(dirname):\n",
    "#                 pathlib.Path(dirname).mkdir(parents=True, exist_ok=True)\n",
    "            \n",
    "#             local_file = (os.path.abspath(os.path.join(\".\", dirname, fname)))\n",
    "#             pddf.to_parquet(local_file)\n",
    "            \n",
    "#         fname = (events.behavior[\"__events_factory__\"]._partition_key.split('/')[0] + \"_nevt.parquet\")\n",
    "#         dump_pandas(df, fname)\n",
    "        \n",
    "#         ratio_df = df/totalevt\n",
    "#         fname = (events.behavior[\"__events_factory__\"]._partition_key.split('/')[0] + \"_ratio.parquet\")\n",
    "#         dump_pandas(ratio_df, fname)"
   ]
  },
  {
   "cell_type": "code",
   "execution_count": null,
   "id": "a8c8b7c6-5595-418b-8379-69f6cb37e06e",
   "metadata": {},
   "outputs": [],
   "source": []
  },
  {
   "cell_type": "code",
   "execution_count": null,
   "id": "abc8873a",
   "metadata": {},
   "outputs": [],
   "source": [
    "pd.read_parquet('test/8836f4fe-d39e-11ed-8024-a70f030abeef_denom.parquet')"
   ]
  },
  {
   "cell_type": "code",
   "execution_count": null,
   "id": "c8c35675",
   "metadata": {},
   "outputs": [],
   "source": [
    "pd.read_parquet('test/8836f4fe-d39e-11ed-8024-a70f030abeef_numer.parquet')"
   ]
  },
  {
   "cell_type": "code",
   "execution_count": null,
   "id": "0c150cdb-c043-4abb-9a9b-81bedb2d24c0",
   "metadata": {},
   "outputs": [],
   "source": [
    "import matplotlib.pyplot as plt\n",
    "fig, ax = plt.subplots(figsize=(10, 6))\n",
    "#output['test']['wirehits'].plot1d(ax=ax, overlay='station')\n",
    "#ax.set_xscale(\"log\")\n",
    "#ax.legend(title=\"Dimuon charge\")"
   ]
  },
  {
   "cell_type": "code",
   "execution_count": null,
   "id": "cb51888a",
   "metadata": {},
   "outputs": [],
   "source": [
    "from coffea.nanoevents.methods import candidate\n",
    "from coffea.nanoevents.methods import vector\n",
    "ak.behavior.update(candidate.behavior)\n",
    "\n",
    "def getLZDF(f,treename =\"hmt\",nEvents=-1):\n",
    "    events_raw = uproot.open(f)[treename]\n",
    "    df = coffea.processor.LazyDataFrame(events_raw,entrystop=nEvents)\n",
    "    start,stop = df._branchargs['entry_start'],df._branchargs['entry_stop']\n",
    "    events = uproot.lazy(df._tree)\n",
    "    events = events[start:stop]\n",
    "    if treename==\"hmt\":\n",
    "        return pack(events)\n",
    "    else:\n",
    "        return events\n",
    "        \n",
    "\n",
    "def pack(events):\n",
    "    events.info=ak.zip({\n",
    "        \"runNum\": events.runNum,\n",
    "        \"lumiNum\": events.lumiNum,\n",
    "        \"evtNum\": events.eventNum,\n",
    "        }\n",
    "    )\n",
    "    events.cls=ak.zip({\n",
    "        'eta':events.ca4CSCclusterEta,\n",
    "        'phi':events.ca4CSCclusterPhi,\n",
    "        'x':events.ca4CSCclusterX,        \n",
    "        'y':events.ca4CSCclusterY,\n",
    "        'z':events.ca4CSCclusterZ,                \n",
    "        'size':events.ca4CSCclusterSize,\n",
    "        'time':events.ca4CSCclusterTime,\n",
    "        'timeSpread':events.ca4CSCclusterTimeSpread,            \n",
    "        \"nME11_12\": events.ca4CSCclusterME11_12,\n",
    "        'time':events.ca4CSCclusterTime,            \n",
    "        \"nStation10\": events.ca4CSCclusterNstation10,\n",
    "        \"avgStation10\": events.ca4CSCclusterAvgStation10,            \n",
    "        })\n",
    "    return events"
   ]
  },
  {
   "cell_type": "code",
   "execution_count": null,
   "id": "70673fc5-2823-4da7-9312-8286471606c1",
   "metadata": {},
   "outputs": [],
   "source": [
    "Nevents = -1\n",
    "samples = {}\n",
    "for f in glob('../tmp/*.root'):\n",
    "    name = str(f).split('/')[2].split('.')[0]\n",
    "    hmt = getLZDF(f,'simpleCSCshowerFilter/hmt',Nevents)\n",
    "    samples[name] = hmt[hmt.isHLT_HIZeroBias]"
   ]
  },
  {
   "cell_type": "code",
   "execution_count": null,
   "id": "e2faa957-4939-4923-993b-a1dc585742ef",
   "metadata": {},
   "outputs": [],
   "source": [
    "arr_threshold1 = range(10, 75, 5)\n",
    "arr_threshold2 = range(10, 25)"
   ]
  },
  {
   "cell_type": "code",
   "execution_count": null,
   "id": "ac391edc-e3f2-41c0-aea2-24ed02daa231",
   "metadata": {},
   "outputs": [],
   "source": [
    "## Count the number of events depending on the threshold of CSC per each station\n",
    "## Let's use pandas\n",
    "\n",
    "df = pd.DataFrame()\n",
    "\n",
    "for sample in samples.keys():\n",
    "    #if not sample == 'HITestRaw1': break\n",
    "    \n",
    "    tmp_df = pd.DataFrame()\n",
    "    \n",
    "    print('Which sample?', sample)\n",
    "    hmt =  samples[sample]\n",
    "    elctHMT = ak.zip({k.replace(\"elctHMT_\",\"\"):getattr(hmt,k) for k in hmt.fields if k.startswith(\"elctHMT_\")})\n",
    "    \n",
    "    emul_sel = elctHMT.bits>=2\n",
    "    elctHMT = elctHMT[emul_sel] # first selection for nominal and tight selections\n",
    "    \n",
    "    for i, threshold in enumerate(arr_threshold2):\n",
    "        cnts = []\n",
    "        \n",
    "        emul_thres = elctHMT.WireNHits > threshold\n",
    "        tmp = elctHMT[emul_thres]\n",
    "        \n",
    "        ME11_sr = (tmp.sr==8) | (tmp.sr==9)\n",
    "        ME12_sr = (tmp.sr==7) | (tmp.sr==10)\n",
    "        ME13_sr = (tmp.sr==6) | (tmp.sr==11)\n",
    "\n",
    "        ME21_sr = (tmp.sr==5) | (tmp.sr==12)\n",
    "        ME22_sr = (tmp.sr==4) | (tmp.sr==13)\n",
    "\n",
    "        ME31_sr = (tmp.sr==3) | (tmp.sr==14)\n",
    "        ME32_sr = (tmp.sr==2) | (tmp.sr==15)\n",
    "\n",
    "        ME41_sr = (tmp.sr==1) | (tmp.sr==16)\n",
    "        ME42_sr = (tmp.sr==0) | (tmp.sr==17)\n",
    "    \n",
    "        for i, region in enumerate([ME11_sr,ME12_sr,ME13_sr,ME21_sr,ME22_sr,ME31_sr,ME32_sr,ME41_sr,ME42_sr]):\n",
    "            cnts.append(ak.count_nonzero(region))\n",
    "        \n",
    "        tmp_df[str(threshold)] = cnts\n",
    "        \n",
    "    ### Let's make a final one\n",
    "    df = df.add(tmp_df, fill_value=0)"
   ]
  },
  {
   "cell_type": "code",
   "execution_count": null,
   "id": "1840227c-4dea-44d6-bc8a-56017efded7c",
   "metadata": {},
   "outputs": [],
   "source": [
    "df.to_csv('events_threshold10to24.csv', index=False)"
   ]
  },
  {
   "cell_type": "code",
   "execution_count": null,
   "id": "e537d537-a24c-4f56-bf81-9ac34d6ec953",
   "metadata": {},
   "outputs": [],
   "source": [
    "sumlist = df.sum(axis=0)\n",
    "df.loc[9] = sumlist"
   ]
  },
  {
   "cell_type": "code",
   "execution_count": null,
   "id": "073f99ff-5928-49d1-b2ed-366aa2a5a153",
   "metadata": {},
   "outputs": [],
   "source": [
    "rate_df = df*1e-4*2500\n",
    "rate_df"
   ]
  },
  {
   "cell_type": "code",
   "execution_count": null,
   "id": "36bbbde1-3e88-4599-8440-44aa2dc47e31",
   "metadata": {},
   "outputs": [],
   "source": [
    "# Add station name in the first position\n",
    "\n",
    "\n",
    "df.insert(0, \"station\", names)\n",
    "rate_df.insert(0, \"station\", names)"
   ]
  },
  {
   "cell_type": "code",
   "execution_count": null,
   "id": "09052dc3-7ff2-4906-bbec-36ed32c59733",
   "metadata": {},
   "outputs": [],
   "source": [
    "rate_df"
   ]
  },
  {
   "cell_type": "code",
   "execution_count": null,
   "id": "5beeb935-e8f9-4023-a3ff-2fdd8af8931c",
   "metadata": {},
   "outputs": [],
   "source": [
    "names = ['ME11', 'ME12', 'ME13', 'ME21', 'ME22', 'ME31', 'ME32', 'ME41', 'ME42', 'total']\n",
    "x = range(10, 75, 5)\n",
    "plt.figure(figsize=(10,10))\n",
    "plt.grid()\n",
    "plt.yscale('log')\n",
    "plt.ylabel('# of emulated HMT fired events', fontsize=15)\n",
    "plt.xlabel('CSC threshold', fontsize=15)\n",
    "plt.xticks(x)\n",
    "\n",
    "for i in range(0, 10):\n",
    "    evts = df.loc[i, :].values.flatten()\n",
    "    plt.plot(x, evts, label=names[i], marker='o')\n",
    "\n",
    "plt.legend()\n",
    "plt.savefig('number_of_events_per_station_by_thresholds.png')"
   ]
  },
  {
   "cell_type": "code",
   "execution_count": null,
   "id": "9a0f375c-9fe7-4691-b5b7-32e48f848097",
   "metadata": {},
   "outputs": [],
   "source": [
    "names = ['ME11', 'ME12', 'ME13', 'ME21', 'ME22', 'ME31', 'ME32', 'ME41', 'ME42', 'total']\n",
    "x = arr_threshold2\n",
    "plt.figure(figsize=(10,10))\n",
    "plt.grid()\n",
    "plt.yscale('log')\n",
    "plt.ylabel('Emulated HMT rates (Hz)', fontsize=15)\n",
    "plt.xlabel('CSC threshold', fontsize=15)\n",
    "plt.xticks(x)\n",
    "\n",
    "#rate_df = rate_df.drop(columns=['station'])\n",
    "for i in range(0, 10):\n",
    "    evts = rate_df.loc[i, :].values.flatten()\n",
    "    plt.plot(x, evts, label=names[i], marker='o')\n",
    "\n",
    "plt.legend()\n",
    "plt.savefig('trigger_rate_per_station_by_thresholds.png')"
   ]
  },
  {
   "cell_type": "code",
   "execution_count": null,
   "id": "a33d631e",
   "metadata": {},
   "outputs": [],
   "source": [
    "cls = ak.zip(\n",
    "    {k.replace(\"ca4CSCcluster\",\"\"):getattr(hmt,k) for k in hmt.fields if k.startswith(\"ca4CSCcluster\")}\n",
    "    ,with_name=\"PtEtaPhiMLorentzVector\", \n",
    "    behavior=vector.behavior\n",
    "    )\n",
    "\n",
    "lctHMT = ak.zip({k.replace(\"lctHMT_\",\"\"):getattr(hmt,k) for k in hmt.fields if k.startswith(\"lctHMT_\")})\n",
    "elctHMT = ak.zip({k.replace(\"elctHMT_\",\"\"):getattr(hmt,k) for k in hmt.fields if k.startswith(\"elctHMT_\")})"
   ]
  },
  {
   "cell_type": "code",
   "execution_count": null,
   "id": "0c10f63f-4317-4283-9cf8-4e065838742a",
   "metadata": {},
   "outputs": [],
   "source": [
    "names = ['ME11', 'ME12', 'ME13', 'ME21', 'ME22', 'ME31', 'ME32', 'ME41', 'ME42']\n",
    "\n",
    "## Consider nominal and tight selections\n",
    "emul_sel = elctHMT.bits>=2\n",
    "elctHMT = elctHMT[emul_sel] # first selection for nominal and tight selections\n",
    "\n",
    "## Station selections\n",
    "ME11_sr = (elctHMT.sr==8)|(elctHMT.sr==9)\n",
    "ME12_sr = (elctHMT.sr==7)|(elctHMT.sr==10)\n",
    "ME13_sr = (elctHMT.sr==6)|(elctHMT.sr==11)\n",
    "\n",
    "ME21_sr = (elctHMT.sr==5)|(elctHMT.sr==12)\n",
    "ME22_sr = (elctHMT.sr==4)|(elctHMT.sr==13)\n",
    "\n",
    "ME31_sr = (elctHMT.sr==3)|(elctHMT.sr==14)\n",
    "ME32_sr = (elctHMT.sr==2)|(elctHMT.sr==15)\n",
    "\n",
    "ME41_sr = (elctHMT.sr==1)|(elctHMT.sr==16)\n",
    "ME42_sr = (elctHMT.sr==0)|(elctHMT.sr==17)"
   ]
  },
  {
   "cell_type": "code",
   "execution_count": null,
   "id": "20a4d3d1-71ca-46b6-9787-cfa05ed246da",
   "metadata": {},
   "outputs": [],
   "source": [
    "for i, region in enumerate([ME11_sr,ME12_sr,ME13_sr,ME21_sr,ME22_sr,ME31_sr,ME32_sr,ME41_sr,ME42_sr]):\n",
    "    print(names[i], ak.count_nonzero(region))"
   ]
  },
  {
   "cell_type": "code",
   "execution_count": null,
   "id": "b72e2602-e532-446c-852a-2bb66fd164a5",
   "metadata": {},
   "outputs": [],
   "source": [
    "cls.R = (cls.X**2+ cls.Y**2)**0.5\n",
    "\n",
    "ME11 = (cls.R>100)&(cls.R<275) &(abs(cls.Z)>580)&(abs(cls.Z)<632) \n",
    "ME12 = (cls.R>275)&(cls.R<465) &(abs(cls.Z)>668)&(abs(cls.Z)<724)\n",
    "ME13 = (cls.R>505)&(cls.R<700) &(abs(cls.Z)>668)&(abs(cls.Z)<724)\n",
    "\n",
    "ME21 = (cls.R>139)&(cls.R<345) &(abs(cls.Z)>789)&(abs(cls.Z)<850)\n",
    "ME22 = (cls.R>357)&(cls.R<700) &(abs(cls.Z)>791)&(abs(cls.Z)<850)\n",
    "\n",
    "ME31 = (cls.R>160)&(cls.R<345) &(abs(cls.Z)>915)&(abs(cls.Z)<970)\n",
    "ME32 = (cls.R>357)&(cls.R<700) &(abs(cls.Z)>911)&(abs(cls.Z)<970)\n",
    "\n",
    "ME41 = (cls.R>178)&(cls.R<345) &(abs(cls.Z)>1002)&(abs(cls.Z)<1063)\n",
    "ME42 = (cls.R>357)&(cls.R<700) &(abs(cls.Z)>1002)&(abs(cls.Z)<1063)"
   ]
  },
  {
   "cell_type": "code",
   "execution_count": null,
   "id": "df6cf649",
   "metadata": {},
   "outputs": [],
   "source": [
    "#thresholds = [140,140,14,56,28,55,26,62,27]\n",
    "thresholds = [20,20,20,20,20,20,20,20,20]\n",
    "\n",
    "for i,region in enumerate([ME11,ME12,ME13,ME21,ME22,ME31,ME32,ME41,ME42]):\n",
    "    sel = ak.any(region&(cls.Nstation10==1),axis=1)\n",
    "    denom = ak.fill_none(ak.max(cls[sel].Size,axis=1),-1)\n",
    "    print(i, denom)\n",
    "    numer = ak.fill_none(denom[ak.any(elctHMT[sel].WireNHits>thresholds[i],axis=1)],-1)\n",
    "    print(numer)"
   ]
  },
  {
   "cell_type": "code",
   "execution_count": null,
   "id": "f94e64c3",
   "metadata": {},
   "outputs": [],
   "source": [
    "ak.count_nonzero(ME11)"
   ]
  },
  {
   "cell_type": "code",
   "execution_count": null,
   "id": "759194b5",
   "metadata": {},
   "outputs": [],
   "source": [
    "ak.count_nonzero(cls.Nstation10==1)"
   ]
  },
  {
   "cell_type": "code",
   "execution_count": null,
   "id": "ba81c9ea",
   "metadata": {},
   "outputs": [],
   "source": [
    "cls.Nstation10==1"
   ]
  },
  {
   "cell_type": "code",
   "execution_count": null,
   "id": "2a279a7d",
   "metadata": {},
   "outputs": [],
   "source": [
    "test = (region & (cls.Nstation10==1))"
   ]
  },
  {
   "cell_type": "code",
   "execution_count": null,
   "id": "db38c57d",
   "metadata": {},
   "outputs": [],
   "source": [
    "ak.count_nonzero(test)"
   ]
  },
  {
   "cell_type": "code",
   "execution_count": null,
   "id": "1c40fe32",
   "metadata": {},
   "outputs": [],
   "source": [
    "ak.any(test, axis=1)"
   ]
  },
  {
   "cell_type": "code",
   "execution_count": null,
   "id": "9067e70e",
   "metadata": {},
   "outputs": [],
   "source": [
    "c = ak.any(test, axis=1)"
   ]
  },
  {
   "cell_type": "code",
   "execution_count": null,
   "id": "1758bc25",
   "metadata": {},
   "outputs": [],
   "source": []
  },
  {
   "cell_type": "markdown",
   "id": "925c4a56",
   "metadata": {},
   "source": [
    "# L1 efficiency v.s. station"
   ]
  },
  {
   "cell_type": "code",
   "execution_count": null,
   "id": "200acddb",
   "metadata": {},
   "outputs": [],
   "source": [
    "ME11 = (cls.R>100)&(cls.R<275) &(abs(cls.Z)>580)&(abs(cls.Z)<632) \n",
    "ME12 = (cls.R>275)&(cls.R<465) &(abs(cls.Z)>668)&(abs(cls.Z)<724)\n",
    "ME13 = (cls.R>505)&(cls.R<700) &(abs(cls.Z)>668)&(abs(cls.Z)<724)\n",
    "\n",
    "ME21 = (cls.R>139)&(cls.R<345) &(abs(cls.Z)>789)&(abs(cls.Z)<850)\n",
    "ME22 = (cls.R>357)&(cls.R<700) &(abs(cls.Z)>791)&(abs(cls.Z)<850)\n",
    "\n",
    "ME31 = (cls.R>160)&(cls.R<345) &(abs(cls.Z)>915)&(abs(cls.Z)<970)\n",
    "ME32 = (cls.R>357)&(cls.R<700) &(abs(cls.Z)>911)&(abs(cls.Z)<970)\n",
    "\n",
    "ME41 = (cls.R>178)&(cls.R<345) &(abs(cls.Z)>1002)&(abs(cls.Z)<1063)\n",
    "ME42 = (cls.R>357)&(cls.R<700) &(abs(cls.Z)>1002)&(abs(cls.Z)<1063)\n",
    "\n",
    "plt.style.use(hep.style.CMS) \n",
    "fig, axs = plt.subplots(3,3, figsize=(24,18))\n",
    "axs = axs.flatten()\n",
    "\n",
    "def plotEff(numer,denom,ax):\n",
    "    h= hist.Hist(\"Events\",hist.Cat(\"sample\",\"sample\"),hist.Bin(\"ClusterSize\", \"ClusterSize\", 50, 10, 1000))        \n",
    "    h.fill(sample=\"numer\",ClusterSize=numer)\n",
    "    h.fill(sample=\"denom\",ClusterSize=denom)\n",
    "\n",
    "    hist.plotratio(num=h.integrate(\"sample\",'numer'),\n",
    "                   denom=h.integrate(\"sample\",'denom'),\n",
    "                    xerr=True,\n",
    "                   error_opts={\"linestyle\":'none',},\n",
    "                   ax=ax,clear=False\n",
    "                  )\n",
    "    return ax\n",
    "\n",
    "\n",
    "for i,region in enumerate([ME11,ME12,ME13,ME21,ME22,ME31,ME32,ME41,ME42]):\n",
    "    sel = ak.all(region&(cls.Nstation10==1),axis=1) \n",
    "    denom = ak.fill_none(ak.max(cls[sel].Size,axis=1),-1)\n",
    "    numer = ak.fill_none(denom[hmt[sel].passL1==1],-1)    \n",
    "#     plotEff(numer,denom,axs[i])\n",
    "    \n",
    "#thresholds       = [140,14,28,26]\n",
    "#tight_thresholds = [140,18,32,34]\n",
    "\n",
    "#thresholds       = [140,140,14,56,28,55,26,62,27]\n",
    "# two_loose        = [140,20  ,8,28 ,9,26 ,8,31,13]\n",
    "thresholds = [20,20,20,20,20,20,20,20,20]\n",
    "#two_loose        = np.ceil(np.array([140,20  ,8,28 ,9,26 ,8,31,13])*0.8)\n",
    "\n",
    "#for i,ax_i in enumerate([1,2,4,6]):\n",
    "for i,region in enumerate([ME11,ME12,ME13,ME21,ME22,ME31,ME32,ME41,ME42]):\n",
    "    sel = ak.all(region&(cls.Nstation10==1),axis=1) \n",
    "    denom = ak.fill_none(ak.max(cls[sel].Size,axis=1),-1)\n",
    "    numer = ak.fill_none(denom[ak.any(elctHMT[sel].WireNHits>thresholds[i],axis=1)],-1)    \n",
    "    #numer_twoLoose = ak.fill_none(denom[ak.any(elctHMT[sel].WireNHits>two_loose[i],axis=1)],-1)            \n",
    "#     numer_tight = ak.fill_none(denom[ak.any(elctHMT[sel].WireNHits>tight_thresholds[i],axis=1)],-1)        \n",
    "#     plotEff(numer,denom,axs[ax_i])\n",
    "#     plotEff(numer_tight,denom,axs[ax_i])    \n",
    "    plotEff(numer,denom,axs[i])\n",
    "    #plotEff(numer_twoLoose,denom,axs[i])    \n",
    "\n",
    "    \n",
    "labels = [\"ME11\",\"ME12\",\"ME13\",'ME21','ME22','ME31','ME32',\"ME41\",\"ME42\"]\n",
    "runNumber = \"run 362321\"\n",
    "for i,ax in enumerate(axs):\n",
    "    ax.set_ylabel(\"L1 Efficiency\")\n",
    "    ax.set_xlabel(\"Max. ClusterSize(CA4)\")\n",
    "    if i in [1,2,4,6,8]:\n",
    "        ax.vlines(200,0,2,color='black',label=\"HLT threshold\",lw=3)    \n",
    "    else:\n",
    "        ax.vlines(500,0,2,color='black',label=\"HLT threshold\",lw=3)\n",
    "#     if i in [1,2,4,6]:\n",
    "#         ax.legend([\"%s\"%labels[i],\"nominal\",\"Two-loose\"],title=runNumber)    \n",
    "#     else:\n",
    "#         ax.legend([\"%s\"%labels[i]],title=runNumber)            \n",
    "    #ax.legend([\"HLT threshold\",'nominal','Two-loose thres.'],title=\"%s\"%labels[i])\n",
    "    ax.legend([\"HLT threshold\",'nominal'],title=\"%s\"%labels[i])\n",
    "    ax.set_ylim(0,2)\n",
    "    plt.tight_layout()"
   ]
  },
  {
   "cell_type": "code",
   "execution_count": null,
   "id": "a080c3a7",
   "metadata": {},
   "outputs": [],
   "source": [
    "fig.savefig('l1_efficiency.png')"
   ]
  },
  {
   "cell_type": "code",
   "execution_count": null,
   "id": "3b0c3b71",
   "metadata": {},
   "outputs": [],
   "source": []
  }
 ],
 "metadata": {
  "kernelspec": {
   "display_name": "Python 3 (ipykernel)",
   "language": "python",
   "name": "py3-preamble"
  },
  "language_info": {
   "codemirror_mode": {
    "name": "ipython",
    "version": 3
   },
   "file_extension": ".py",
   "mimetype": "text/x-python",
   "name": "python",
   "nbconvert_exporter": "python",
   "pygments_lexer": "ipython3",
   "version": "3.9.15"
  }
 },
 "nbformat": 4,
 "nbformat_minor": 5
}
